{
  "nbformat": 4,
  "nbformat_minor": 0,
  "metadata": {
    "colab": {
      "provenance": [],
      "collapsed_sections": [
        "c9uj1DjDN0IG",
        "ihFDvO5PLFSA",
        "Lu3rcbcdLosm",
        "5V79A9rcLyUE",
        "UakDqoK3JGGz",
        "jEtgHMvInoq5",
        "OTePDMH1sqTS",
        "Goc-GxOyqVbK",
        "ibtZ5mP-sbe0",
        "tSvkTTA7wNCI",
        "tom68FwRCQvf",
        "NwNcxXlhCaca",
        "K0XlyFm4oPdy",
        "ajW1GktnLHC8",
        "T8xZKmRysyBL",
        "rhoEDjw6MowO",
        "FSs--RTiN7V-",
        "nOrxl3m2Ytjk",
        "YoJNXwEnYynF",
        "rzq5I4qhN-4b"
      ]
    },
    "kernelspec": {
      "name": "python3",
      "display_name": "Python 3"
    },
    "language_info": {
      "name": "python"
    },
    "accelerator": "GPU",
    "gpuClass": "standard"
  },
  "cells": [
    {
      "cell_type": "markdown",
      "source": [
        "# NNDL HomeWork 4\n",
        "This is the fourth homework of NNDL course about RNNs  \n",
        "by **Ali Ranjbari**"
      ],
      "metadata": {
        "id": "ZvCclESuK_TV"
      }
    },
    {
      "cell_type": "markdown",
      "source": [
        "## Imports and installs"
      ],
      "metadata": {
        "id": "c9uj1DjDN0IG"
      }
    },
    {
      "cell_type": "code",
      "source": [
        "!pip install -q torchmetrics"
      ],
      "metadata": {
        "id": "qenyfs5ALX9a",
        "colab": {
          "base_uri": "https://localhost:8080/"
        },
        "outputId": "4a261bdf-d992-415e-da27-f5c4322c300f"
      },
      "execution_count": 1,
      "outputs": [
        {
          "output_type": "stream",
          "name": "stdout",
          "text": [
            "\u001b[?25l\r\u001b[K     |▋                               | 10 kB 33.3 MB/s eta 0:00:01\r\u001b[K     |█▎                              | 20 kB 18.0 MB/s eta 0:00:01\r\u001b[K     |██                              | 30 kB 24.3 MB/s eta 0:00:01\r\u001b[K     |██▋                             | 40 kB 13.7 MB/s eta 0:00:01\r\u001b[K     |███▏                            | 51 kB 13.0 MB/s eta 0:00:01\r\u001b[K     |███▉                            | 61 kB 15.2 MB/s eta 0:00:01\r\u001b[K     |████▌                           | 71 kB 15.0 MB/s eta 0:00:01\r\u001b[K     |█████▏                          | 81 kB 16.5 MB/s eta 0:00:01\r\u001b[K     |█████▊                          | 92 kB 14.8 MB/s eta 0:00:01\r\u001b[K     |██████▍                         | 102 kB 15.7 MB/s eta 0:00:01\r\u001b[K     |███████                         | 112 kB 15.7 MB/s eta 0:00:01\r\u001b[K     |███████▊                        | 122 kB 15.7 MB/s eta 0:00:01\r\u001b[K     |████████▎                       | 133 kB 15.7 MB/s eta 0:00:01\r\u001b[K     |█████████                       | 143 kB 15.7 MB/s eta 0:00:01\r\u001b[K     |█████████▋                      | 153 kB 15.7 MB/s eta 0:00:01\r\u001b[K     |██████████▎                     | 163 kB 15.7 MB/s eta 0:00:01\r\u001b[K     |██████████▉                     | 174 kB 15.7 MB/s eta 0:00:01\r\u001b[K     |███████████▌                    | 184 kB 15.7 MB/s eta 0:00:01\r\u001b[K     |████████████▏                   | 194 kB 15.7 MB/s eta 0:00:01\r\u001b[K     |████████████▉                   | 204 kB 15.7 MB/s eta 0:00:01\r\u001b[K     |█████████████▍                  | 215 kB 15.7 MB/s eta 0:00:01\r\u001b[K     |██████████████                  | 225 kB 15.7 MB/s eta 0:00:01\r\u001b[K     |██████████████▊                 | 235 kB 15.7 MB/s eta 0:00:01\r\u001b[K     |███████████████▍                | 245 kB 15.7 MB/s eta 0:00:01\r\u001b[K     |████████████████                | 256 kB 15.7 MB/s eta 0:00:01\r\u001b[K     |████████████████▋               | 266 kB 15.7 MB/s eta 0:00:01\r\u001b[K     |█████████████████▎              | 276 kB 15.7 MB/s eta 0:00:01\r\u001b[K     |██████████████████              | 286 kB 15.7 MB/s eta 0:00:01\r\u001b[K     |██████████████████▌             | 296 kB 15.7 MB/s eta 0:00:01\r\u001b[K     |███████████████████▏            | 307 kB 15.7 MB/s eta 0:00:01\r\u001b[K     |███████████████████▉            | 317 kB 15.7 MB/s eta 0:00:01\r\u001b[K     |████████████████████▌           | 327 kB 15.7 MB/s eta 0:00:01\r\u001b[K     |█████████████████████           | 337 kB 15.7 MB/s eta 0:00:01\r\u001b[K     |█████████████████████▊          | 348 kB 15.7 MB/s eta 0:00:01\r\u001b[K     |██████████████████████▍         | 358 kB 15.7 MB/s eta 0:00:01\r\u001b[K     |███████████████████████         | 368 kB 15.7 MB/s eta 0:00:01\r\u001b[K     |███████████████████████▋        | 378 kB 15.7 MB/s eta 0:00:01\r\u001b[K     |████████████████████████▎       | 389 kB 15.7 MB/s eta 0:00:01\r\u001b[K     |█████████████████████████       | 399 kB 15.7 MB/s eta 0:00:01\r\u001b[K     |█████████████████████████▋      | 409 kB 15.7 MB/s eta 0:00:01\r\u001b[K     |██████████████████████████▏     | 419 kB 15.7 MB/s eta 0:00:01\r\u001b[K     |██████████████████████████▉     | 430 kB 15.7 MB/s eta 0:00:01\r\u001b[K     |███████████████████████████▌    | 440 kB 15.7 MB/s eta 0:00:01\r\u001b[K     |████████████████████████████▏   | 450 kB 15.7 MB/s eta 0:00:01\r\u001b[K     |████████████████████████████▉   | 460 kB 15.7 MB/s eta 0:00:01\r\u001b[K     |█████████████████████████████▍  | 471 kB 15.7 MB/s eta 0:00:01\r\u001b[K     |██████████████████████████████  | 481 kB 15.7 MB/s eta 0:00:01\r\u001b[K     |██████████████████████████████▊ | 491 kB 15.7 MB/s eta 0:00:01\r\u001b[K     |███████████████████████████████▍| 501 kB 15.7 MB/s eta 0:00:01\r\u001b[K     |████████████████████████████████| 512 kB 15.7 MB/s eta 0:00:01\r\u001b[K     |████████████████████████████████| 512 kB 15.7 MB/s \n",
            "\u001b[?25h"
          ]
        }
      ]
    },
    {
      "cell_type": "code",
      "source": [
        "import pandas as pd\n",
        "import numpy as np\n",
        "import torch\n",
        "from torch.utils.data import Dataset, DataLoader\n",
        "import torch.nn as nn\n",
        "import torch.nn.functional as F\n",
        "import torchmetrics\n",
        "import os\n",
        "import matplotlib.pyplot as plt\n",
        "import seaborn as sns\n",
        "from math import ceil\n",
        "import nltk\n",
        "from torchmetrics import (\n",
        "  R2Score,\n",
        "  MeanAbsoluteError,\n",
        "  MeanSquaredError,\n",
        ")\n",
        "from torchmetrics.functional.classification import (\n",
        "    multiclass_accuracy,\n",
        "    multiclass_precision,\n",
        "    multiclass_f1_score,\n",
        "    multiclass_recall\n",
        ")\n",
        "from torchtext.vocab import GloVe\n",
        "from torchtext.data import get_tokenizer\n",
        "from sklearn.model_selection import train_test_split"
      ],
      "metadata": {
        "id": "0AA9t697LPWu"
      },
      "execution_count": 20,
      "outputs": []
    },
    {
      "cell_type": "code",
      "source": [
        "device = torch.device('cuda' if torch.cuda.is_available() else 'cpu')\n",
        "print(f'device is {device}')"
      ],
      "metadata": {
        "colab": {
          "base_uri": "https://localhost:8080/"
        },
        "id": "E4MTGoJzRgEc",
        "outputId": "c933a6f0-8330-4960-a0a5-7bc10ea45f29"
      },
      "execution_count": 3,
      "outputs": [
        {
          "output_type": "stream",
          "name": "stdout",
          "text": [
            "device is cuda\n"
          ]
        }
      ]
    },
    {
      "cell_type": "markdown",
      "source": [
        "## Q1) Air Pollution Detection"
      ],
      "metadata": {
        "id": "ihFDvO5PLFSA"
      }
    },
    {
      "cell_type": "markdown",
      "source": [
        "### 1. Loading the data"
      ],
      "metadata": {
        "id": "Lu3rcbcdLosm"
      }
    },
    {
      "cell_type": "code",
      "source": [
        "from google.colab import drive\n",
        "drive.mount('/content/drive')"
      ],
      "metadata": {
        "colab": {
          "base_uri": "https://localhost:8080/"
        },
        "id": "hWaJolmSN9dJ",
        "outputId": "3e26e697-7cf2-497c-efc4-1a4a0de87928"
      },
      "execution_count": null,
      "outputs": [
        {
          "output_type": "stream",
          "name": "stdout",
          "text": [
            "Mounted at /content/drive\n"
          ]
        }
      ]
    },
    {
      "cell_type": "code",
      "source": [
        "%cp drive/MyDrive/Datasets/NNDL_HW04/* .\n",
        "!unzip PRSA2017_Data_20130301-20170228.zip\n",
        "%cd PRSA2017_Data_20130301-20170228/PRSA_Data_20130301-20170228/\n",
        "%ls ."
      ],
      "metadata": {
        "colab": {
          "base_uri": "https://localhost:8080/"
        },
        "id": "PHB8yxbWOHMD",
        "outputId": "e64dbcf8-683f-4360-f31c-b34c46c913ff"
      },
      "execution_count": null,
      "outputs": [
        {
          "output_type": "stream",
          "name": "stdout",
          "text": [
            "Archive:  PRSA2017_Data_20130301-20170228.zip\n",
            "   creating: PRSA2017_Data_20130301-20170228/PRSA_Data_20130301-20170228/\n",
            "  inflating: PRSA2017_Data_20130301-20170228/PRSA_Data_20130301-20170228/PRSA_Data_Aotizhongxin_20130301-20170228.csv  \n",
            "  inflating: PRSA2017_Data_20130301-20170228/PRSA_Data_20130301-20170228/PRSA_Data_Changping_20130301-20170228.csv  \n",
            "  inflating: PRSA2017_Data_20130301-20170228/PRSA_Data_20130301-20170228/PRSA_Data_Dingling_20130301-20170228.csv  \n",
            "  inflating: PRSA2017_Data_20130301-20170228/PRSA_Data_20130301-20170228/PRSA_Data_Dongsi_20130301-20170228.csv  \n",
            "  inflating: PRSA2017_Data_20130301-20170228/PRSA_Data_20130301-20170228/PRSA_Data_Guanyuan_20130301-20170228.csv  \n",
            "  inflating: PRSA2017_Data_20130301-20170228/PRSA_Data_20130301-20170228/PRSA_Data_Gucheng_20130301-20170228.csv  \n",
            "  inflating: PRSA2017_Data_20130301-20170228/PRSA_Data_20130301-20170228/PRSA_Data_Huairou_20130301-20170228.csv  \n",
            "  inflating: PRSA2017_Data_20130301-20170228/PRSA_Data_20130301-20170228/PRSA_Data_Nongzhanguan_20130301-20170228.csv  \n",
            "  inflating: PRSA2017_Data_20130301-20170228/PRSA_Data_20130301-20170228/PRSA_Data_Shunyi_20130301-20170228.csv  \n",
            "  inflating: PRSA2017_Data_20130301-20170228/PRSA_Data_20130301-20170228/PRSA_Data_Tiantan_20130301-20170228.csv  \n",
            "  inflating: PRSA2017_Data_20130301-20170228/PRSA_Data_20130301-20170228/PRSA_Data_Wanliu_20130301-20170228.csv  \n",
            "  inflating: PRSA2017_Data_20130301-20170228/PRSA_Data_20130301-20170228/PRSA_Data_Wanshouxigong_20130301-20170228.csv  \n",
            "/content/PRSA2017_Data_20130301-20170228/PRSA_Data_20130301-20170228\n",
            "PRSA_Data_Aotizhongxin_20130301-20170228.csv\n",
            "PRSA_Data_Changping_20130301-20170228.csv\n",
            "PRSA_Data_Dingling_20130301-20170228.csv\n",
            "PRSA_Data_Dongsi_20130301-20170228.csv\n",
            "PRSA_Data_Guanyuan_20130301-20170228.csv\n",
            "PRSA_Data_Gucheng_20130301-20170228.csv\n",
            "PRSA_Data_Huairou_20130301-20170228.csv\n",
            "PRSA_Data_Nongzhanguan_20130301-20170228.csv\n",
            "PRSA_Data_Shunyi_20130301-20170228.csv\n",
            "PRSA_Data_Tiantan_20130301-20170228.csv\n",
            "PRSA_Data_Wanliu_20130301-20170228.csv\n",
            "PRSA_Data_Wanshouxigong_20130301-20170228.csv\n"
          ]
        }
      ]
    },
    {
      "cell_type": "code",
      "source": [
        "df = pd.read_csv(\"./PRSA_Data_Aotizhongxin_20130301-20170228.csv\")"
      ],
      "metadata": {
        "id": "llsR4lzLRMud"
      },
      "execution_count": null,
      "outputs": []
    },
    {
      "cell_type": "code",
      "source": [
        "names = os.listdir()\n",
        "# df = pd.DataFrame()\n",
        "for name in names:\n",
        "  if \"Aotizhongxin\" in name:\n",
        "    continue\n",
        "\n",
        "  df_temp = pd.read_csv(name)\n",
        "  station_name = name.split(\"_\")[2][0:4]\n",
        "  df[f\"PM2.5_{station_name}\"] = df_temp[\"PM2.5\"]\n",
        "\n",
        "df = df.drop(\"station\", axis=1)"
      ],
      "metadata": {
        "id": "rR-5Zn0mRgic"
      },
      "execution_count": null,
      "outputs": []
    },
    {
      "cell_type": "code",
      "source": [
        "df_PM = df.copy()\n",
        "for c in df_PM.columns:\n",
        "  if 'PM2.5' not in c:\n",
        "    df_PM.drop(c, axis=1, inplace=True)\n",
        "    print(f\"droped {c}\")"
      ],
      "metadata": {
        "colab": {
          "base_uri": "https://localhost:8080/"
        },
        "id": "SoVZh8gUOqsG",
        "outputId": "d555fd15-06fc-4ab9-c270-fc82d311d0c4"
      },
      "execution_count": null,
      "outputs": [
        {
          "output_type": "stream",
          "name": "stdout",
          "text": [
            "droped No\n",
            "droped year\n",
            "droped month\n",
            "droped day\n",
            "droped hour\n",
            "droped PM10\n",
            "droped SO2\n",
            "droped NO2\n",
            "droped CO\n",
            "droped O3\n",
            "droped TEMP\n",
            "droped PRES\n",
            "droped DEWP\n",
            "droped RAIN\n",
            "droped wd\n",
            "droped WSPM\n"
          ]
        }
      ]
    },
    {
      "cell_type": "markdown",
      "source": [
        "### 2. Preprocessing"
      ],
      "metadata": {
        "id": "5V79A9rcLyUE"
      }
    },
    {
      "cell_type": "markdown",
      "source": [
        "#### 2.1 Missing value\n",
        "Handling missing values with Linear interpolation method"
      ],
      "metadata": {
        "id": "UakDqoK3JGGz"
      }
    },
    {
      "cell_type": "code",
      "source": [
        "df = df.interpolate(method=\"linear\", limit_direction = \"forward\")"
      ],
      "metadata": {
        "id": "Cti6rWsfl3Up"
      },
      "execution_count": null,
      "outputs": []
    },
    {
      "cell_type": "code",
      "source": [
        "df_PM = df_PM.interpolate(method=\"linear\", limit_direction = \"forward\")"
      ],
      "metadata": {
        "id": "bUw3_3nRrpl3"
      },
      "execution_count": null,
      "outputs": []
    },
    {
      "cell_type": "markdown",
      "source": [
        "#### 2.2 Encoding Categorical Variable\n"
      ],
      "metadata": {
        "id": "jEtgHMvInoq5"
      }
    },
    {
      "cell_type": "code",
      "source": [
        "values = [\"N\", \"NNE\", \"NE\", \"ENE\", \"E\", \"ESE\", \"SE\", \"SSE\", \"S\", \"SSW\", \"SW\", \"WSW\", \"W\", \"WNW\", \"NW\", \"NNW\", \"N\"]\n",
        "degrees = [ i*22.5 for i in range(17)]"
      ],
      "metadata": {
        "id": "o3owGWCznBM1"
      },
      "execution_count": null,
      "outputs": []
    },
    {
      "cell_type": "code",
      "source": [
        "df['wd'].replace(values, degrees, inplace=True)"
      ],
      "metadata": {
        "id": "N3YHEy3Ipyxi"
      },
      "execution_count": null,
      "outputs": []
    },
    {
      "cell_type": "code",
      "source": [
        "# \"wd\" column still has NaN values so after converting to degree we perform LI\n",
        "df = df.interpolate(method=\"linear\", limit_direction = \"forward\")"
      ],
      "metadata": {
        "id": "IvVHwDMdp6CV"
      },
      "execution_count": null,
      "outputs": []
    },
    {
      "cell_type": "markdown",
      "source": [
        "#### 2.3 Normalization\n",
        "Normalize using min-max normalization"
      ],
      "metadata": {
        "id": "OTePDMH1sqTS"
      }
    },
    {
      "cell_type": "code",
      "source": [
        "for column in df.columns:\n",
        "  df[column] = (df[column] - df[column].min()) / (df[column].max() - df[column].min())"
      ],
      "metadata": {
        "id": "JYuOlvsQsugw"
      },
      "execution_count": null,
      "outputs": []
    },
    {
      "cell_type": "code",
      "source": [
        "for column in df_PM.columns:\n",
        "  df_PM[column] = (df_PM[column] - df_PM[column].min()) / (df_PM[column].max() - df_PM[column].min())"
      ],
      "metadata": {
        "id": "d3-xyxWLsuox"
      },
      "execution_count": null,
      "outputs": []
    },
    {
      "cell_type": "markdown",
      "source": [
        "#### 2.4 Pearson Correlation\n",
        "Just for PM columns"
      ],
      "metadata": {
        "id": "Goc-GxOyqVbK"
      }
    },
    {
      "cell_type": "code",
      "source": [
        "corr = df_PM.corr(method=\"pearson\")\n",
        "sns.heatmap(corr)\n",
        "plt.show()"
      ],
      "metadata": {
        "colab": {
          "base_uri": "https://localhost:8080/",
          "height": 322
        },
        "id": "uo4LIL0Fq9hE",
        "outputId": "b985e7ee-7de1-44e8-89fc-c9a0617cccf9"
      },
      "execution_count": null,
      "outputs": [
        {
          "output_type": "display_data",
          "data": {
            "text/plain": [
              "<Figure size 432x288 with 2 Axes>"
            ],
            "image/png": "[encoded data removed]"
          },
          "metadata": {
            "needs_background": "light"
          }
        }
      ]
    },
    {
      "cell_type": "markdown",
      "source": [
        "#### 2.5 Feature selection"
      ],
      "metadata": {
        "id": "ibtZ5mP-sbe0"
      }
    },
    {
      "cell_type": "code",
      "source": [
        "# features is this columns and all column that have PM in it\n",
        "features = [\"CO\", \"TEMP\", \"PRES\", \"DEWP\", \"RAIN\", \"wd\", \"WSPM\"]\n",
        "for c in df.columns:\n",
        "  if c in features or 'PM' in c:\n",
        "    continue\n",
        "  df = df.drop(c, axis=1)"
      ],
      "metadata": {
        "id": "LX3txv7uuo5K"
      },
      "execution_count": null,
      "outputs": []
    },
    {
      "cell_type": "markdown",
      "source": [
        "Now save the table as csv with name `PRSA_Data_features.csv`"
      ],
      "metadata": {
        "id": "dkSKCOM4ve6c"
      }
    },
    {
      "cell_type": "code",
      "source": [
        "df.to_csv(\"../../PRSA_Data_features.csv\")"
      ],
      "metadata": {
        "id": "BDZ8r9IUupvg"
      },
      "execution_count": null,
      "outputs": []
    },
    {
      "cell_type": "markdown",
      "source": [
        "#### 2.5 Supervised dataset\n",
        "Convert data to supervised and ready for training  \n",
        "We built two dataset 1 and 7 days lag  "
      ],
      "metadata": {
        "id": "tSvkTTA7wNCI"
      }
    },
    {
      "cell_type": "code",
      "source": [
        "X_lag1 = []\n",
        "y_lag1 = []\n",
        "df_np = df.to_numpy()\n",
        "for i in range(0, df.shape[0]-24):\n",
        "  X_lag1.append(\n",
        "      np.expand_dims(df_np[i:i+24, :], axis=0))\n",
        "  y_lag1.append(\n",
        "      np.expand_dims(df_np[i+24, 0], axis=0))\n",
        "  \n",
        "# concatination\n",
        "X1 = np.concatenate(X_lag1)\n",
        "y1 = np.concatenate(y_lag1)\n",
        "\n",
        "# train test split (80-20)\n",
        "train_size = ceil(X1.shape[0] * 0.8)\n",
        "X1_train = X1[0:train_size, :, :]\n",
        "X1_test = X1[train_size:, :, :]\n",
        "y1_train = y1[0:train_size]\n",
        "y1_test = y1[train_size:]"
      ],
      "metadata": {
        "id": "jDYmaLLawUeB"
      },
      "execution_count": null,
      "outputs": []
    },
    {
      "cell_type": "code",
      "source": [
        "X_lag7 = []\n",
        "y_lag7 = []\n",
        "df_np = df.to_numpy()\n",
        "step = (24 * 7) \n",
        "for i in range(0, df.shape[0]-step):\n",
        "  X_lag7.append(\n",
        "      np.expand_dims(df_np[i:i+step, :], axis=0))\n",
        "  y_lag7.append(\n",
        "      np.expand_dims(df_np[i+step, 0], axis=0))\n",
        "\n",
        "# concatination\n",
        "X7 = np.concatenate(X_lag7)\n",
        "y7 = np.concatenate(y_lag7)\n",
        "\n",
        "# train test split (80-20)\n",
        "train_size = ceil(X7.shape[0] * 0.8)\n",
        "X7_train = X7[0:train_size,:,:]\n",
        "X7_test = X7[train_size:, :, :]\n",
        "y7_train = y7[0:train_size]\n",
        "y7_test = y7[train_size:]"
      ],
      "metadata": {
        "id": "vuo7GtJ47NKL"
      },
      "execution_count": null,
      "outputs": []
    },
    {
      "cell_type": "code",
      "source": [
        "class PollutionDataset(Dataset):\n",
        "  def __init__(self, X: torch.Tensor, y: torch.Tensor):\n",
        "    super().__init__()\n",
        "    self.input = torch.tensor(X, dtype=torch.float)\n",
        "    self.target = torch.tensor(y, dtype=torch.float)\n",
        "\n",
        "  def __getitem__(self, idx):\n",
        "    return self.input[idx], self.target[idx]\n",
        "  \n",
        "  def __len__(self):\n",
        "    return self.input.shape[0]"
      ],
      "metadata": {
        "id": "6cxm1hB_HXa3"
      },
      "execution_count": null,
      "outputs": []
    },
    {
      "cell_type": "code",
      "source": [
        "train1_dataset = PollutionDataset(X1_train, y1_train) \n",
        "test1_dataset = PollutionDataset(X1_test, y1_test) \n",
        "train7_dataset = PollutionDataset(X7_train, y7_train) \n",
        "test7_dataset = PollutionDataset(X7_test, y7_test) "
      ],
      "metadata": {
        "id": "RpVD_f3GI6Gt"
      },
      "execution_count": null,
      "outputs": []
    },
    {
      "cell_type": "markdown",
      "source": [
        "### 3. Build the model "
      ],
      "metadata": {
        "id": "tom68FwRCQvf"
      }
    },
    {
      "cell_type": "code",
      "source": [
        "class CNN_LSTM(nn.Module):\n",
        "\n",
        "  def __init__(self, seq_size: int):\n",
        "    super().__init__()\n",
        "\n",
        "    # conv self\n",
        "    self.conv1 = nn.Conv1d(seq_size, 64, 3, padding=\"same\",\n",
        "                           padding_mode='zeros')              # 20 -> 20\n",
        "    self.norm1 = nn.BatchNorm1d(64)\n",
        "    self.conv2 = nn.Conv1d(64, 64, 3, paddin3g=\"same\",\n",
        "                           padding_mode='zeros')              # 20 -> 20\n",
        "    self.norm2 = nn.BatchNorm1d(64)\n",
        "    self.conv3 = nn.Conv1d(64, 32, 3, padding=\"same\",\n",
        "                           padding_mode='zeros')              # 20 -> 20 \n",
        "    self.max_pool = nn.MaxPool1d(3)                           # 20 -> 6\n",
        "\n",
        "\n",
        "    # lstm layer\n",
        "    self.lstm1 = nn.LSTM(input_size=6, hidden_size=100, batch_first=True)\n",
        "    self.lstm2 = nn.LSTM(input_size=100, hidden_size=50, batch_first=True)\n",
        "    self.drop02 = nn.Dropout1d(0.2)\n",
        "    self.drop03 = nn.Dropout1d(0.3)\n",
        "    \n",
        "    # output layer\n",
        "    self.fc = nn.Linear(50*32, 1)\n",
        "\n",
        "\n",
        "  def forward(self, x):\n",
        "\n",
        "    # conv layer\n",
        "    x = F.relu(self.conv1(x))\n",
        "    x = self.norm1(x)\n",
        "    x = F.relu(self.conv2(x))\n",
        "    x = self.norm2(x)\n",
        "    x = F.relu(self.conv3(x))\n",
        "    x = self.max_pool(x)\n",
        "\n",
        "    # lstm layer\n",
        "    x = self.drop02(self.lstm1(x)[0])\n",
        "    x = self.drop03(self.lstm2(x)[0])\n",
        "\n",
        "\n",
        "    x = x.reshape((-1, 50*32))\n",
        "    # output layer\n",
        "    x = F.relu(self.fc(x))\n",
        "    x = x.squeeze()\n",
        "\n",
        "    return x"
      ],
      "metadata": {
        "id": "Qr-PZPmICink"
      },
      "execution_count": null,
      "outputs": []
    },
    {
      "cell_type": "markdown",
      "source": [
        "### 4. Train"
      ],
      "metadata": {
        "id": "NwNcxXlhCaca"
      }
    },
    {
      "cell_type": "code",
      "source": [
        "model1 = CNN_LSTM(seq_size=24)\n",
        "model1.to(device)\n",
        "criterion = torch.nn.MSELoss()\n",
        "optimizer = torch.optim.Adam(model1.parameters(),\n",
        "                                lr=0.001, weight_decay=0.0001)\n",
        "\n",
        "mse_metric = MeanSquaredError().to(device)\n",
        "mae_metric = MeanAbsoluteError().to(device)\n",
        "r2_metric = R2Score().to(device)\n",
        "train1_dataloader = DataLoader(train1_dataset,\n",
        "                              batch_size = 32, shuffle=True)"
      ],
      "metadata": {
        "id": "spu1UD4URZ35"
      },
      "execution_count": null,
      "outputs": []
    },
    {
      "cell_type": "code",
      "source": [
        "# learning loop\n",
        "r2s = []\n",
        "maes = []\n",
        "rmses = []\n",
        "EPOCHS = 50\n",
        "\n",
        "n_total = len(train1_dataloader)\n",
        "for epoch in range(1, EPOCHS+1):\n",
        "  targets = []\n",
        "  print(f\"*************** Epoch {epoch} ***************\")\n",
        "  print(\" [Epoch] |  Loss  |  R2  |  MAE  |  RMSE  \")\n",
        "  for i, (inputs, target) in enumerate(train1_dataloader):\n",
        "    \n",
        "    inputs = inputs.to(device)\n",
        "    target = target.to(device)\n",
        "\n",
        "    predicted = model1(inputs)\n",
        "    \n",
        "    optimizer.zero_grad()\n",
        "    loss = criterion(predicted, target)\n",
        "    loss.backward()\n",
        "    optimizer.step()\n",
        "\n",
        "    \n",
        "    if (i+1) % 300 == 0:\n",
        "      with torch.no_grad():\n",
        "        r2 = r2_metric(predicted, target)\n",
        "        mae = mae_metric(predicted, target)\n",
        "        mse = mse_metric(predicted, target)\n",
        "        print(f\"[{i+1}/{n_total}]  {loss.item():.3f}   {r2.item():.3f}   {mae.item():.3f}   {torch.sqrt(mse).item():.3f}\")\n",
        "\n",
        "  r2s.append(r2.item())\n",
        "  maes.append(mae.item())\n",
        "  rmses.append(torch.sqrt(mse).item())\n",
        "  \n"
      ],
      "metadata": {
        "colab": {
          "base_uri": "https://localhost:8080/"
        },
        "id": "pw9XIZLJYQIG",
        "outputId": "f4b0836a-5678-45d5-b864-d312a0b3bb84"
      },
      "execution_count": null,
      "outputs": [
        {
          "output_type": "stream",
          "name": "stdout",
          "text": [
            "*************** Epoch 1 ***************\n",
            " [Epoch] |  Loss  |  R2  |  MAE  |  RMSE  \n",
            "[300/876]  0.001   0.898   0.026   0.033\n",
            "[600/876]  0.001   0.819   0.027   0.033\n",
            "*************** Epoch 2 ***************\n",
            " [Epoch] |  Loss  |  R2  |  MAE  |  RMSE  \n",
            "[300/876]  0.001   0.889   0.023   0.037\n",
            "[600/876]  0.001   0.872   0.018   0.024\n",
            "*************** Epoch 3 ***************\n",
            " [Epoch] |  Loss  |  R2  |  MAE  |  RMSE  \n",
            "[300/876]  0.001   0.920   0.020   0.026\n",
            "[600/876]  0.000   0.916   0.013   0.017\n",
            "*************** Epoch 4 ***************\n",
            " [Epoch] |  Loss  |  R2  |  MAE  |  RMSE  \n",
            "[300/876]  0.001   0.922   0.023   0.033\n",
            "[600/876]  0.000   0.971   0.013   0.019\n",
            "*************** Epoch 5 ***************\n",
            " [Epoch] |  Loss  |  R2  |  MAE  |  RMSE  \n",
            "[300/876]  0.000   0.966   0.016   0.020\n",
            "[600/876]  0.001   0.783   0.020   0.034\n",
            "*************** Epoch 6 ***************\n",
            " [Epoch] |  Loss  |  R2  |  MAE  |  RMSE  \n",
            "[300/876]  0.000   0.953   0.013   0.016\n",
            "[600/876]  0.000   0.939   0.014   0.019\n",
            "*************** Epoch 7 ***************\n",
            " [Epoch] |  Loss  |  R2  |  MAE  |  RMSE  \n",
            "[300/876]  0.000   0.866   0.014   0.020\n",
            "[600/876]  0.000   0.947   0.014   0.021\n",
            "*************** Epoch 8 ***************\n",
            " [Epoch] |  Loss  |  R2  |  MAE  |  RMSE  \n",
            "[300/876]  0.001   0.924   0.020   0.027\n",
            "[600/876]  0.001   0.879   0.017   0.029\n",
            "*************** Epoch 9 ***************\n",
            " [Epoch] |  Loss  |  R2  |  MAE  |  RMSE  \n",
            "[300/876]  0.000   0.965   0.014   0.017\n",
            "[600/876]  0.000   0.960   0.015   0.020\n",
            "*************** Epoch 10 ***************\n",
            " [Epoch] |  Loss  |  R2  |  MAE  |  RMSE  \n",
            "[300/876]  0.003   0.587   0.023   0.052\n",
            "[600/876]  0.001   0.949   0.018   0.025\n",
            "*************** Epoch 11 ***************\n",
            " [Epoch] |  Loss  |  R2  |  MAE  |  RMSE  \n",
            "[300/876]  0.001   0.872   0.018   0.024\n",
            "[600/876]  0.001   0.896   0.021   0.032\n",
            "*************** Epoch 12 ***************\n",
            " [Epoch] |  Loss  |  R2  |  MAE  |  RMSE  \n",
            "[300/876]  0.000   0.909   0.016   0.020\n",
            "[600/876]  0.001   0.876   0.016   0.023\n",
            "*************** Epoch 13 ***************\n",
            " [Epoch] |  Loss  |  R2  |  MAE  |  RMSE  \n",
            "[300/876]  0.000   0.822   0.015   0.020\n",
            "[600/876]  0.002   0.728   0.023   0.041\n",
            "*************** Epoch 14 ***************\n",
            " [Epoch] |  Loss  |  R2  |  MAE  |  RMSE  \n",
            "[300/876]  0.000   0.970   0.015   0.020\n",
            "[600/876]  0.001   0.863   0.023   0.035\n",
            "*************** Epoch 15 ***************\n",
            " [Epoch] |  Loss  |  R2  |  MAE  |  RMSE  \n",
            "[300/876]  0.000   0.949   0.014   0.020\n",
            "[600/876]  0.001   0.932   0.022   0.032\n",
            "*************** Epoch 16 ***************\n",
            " [Epoch] |  Loss  |  R2  |  MAE  |  RMSE  \n",
            "[300/876]  0.001   0.963   0.018   0.025\n",
            "[600/876]  0.001   0.790   0.017   0.026\n",
            "*************** Epoch 17 ***************\n",
            " [Epoch] |  Loss  |  R2  |  MAE  |  RMSE  \n",
            "[300/876]  0.000   0.965   0.013   0.019\n",
            "[600/876]  0.001   0.948   0.019   0.025\n",
            "*************** Epoch 18 ***************\n",
            " [Epoch] |  Loss  |  R2  |  MAE  |  RMSE  \n",
            "[300/876]  0.001   0.955   0.018   0.026\n",
            "[600/876]  0.000   0.892   0.013   0.016\n",
            "*************** Epoch 19 ***************\n",
            " [Epoch] |  Loss  |  R2  |  MAE  |  RMSE  \n",
            "[300/876]  0.000   0.916   0.016   0.021\n",
            "[600/876]  0.001   0.919   0.020   0.028\n",
            "*************** Epoch 20 ***************\n",
            " [Epoch] |  Loss  |  R2  |  MAE  |  RMSE  \n",
            "[300/876]  0.001   0.803   0.024   0.031\n",
            "[600/876]  0.001   0.930   0.019   0.025\n",
            "*************** Epoch 21 ***************\n",
            " [Epoch] |  Loss  |  R2  |  MAE  |  RMSE  \n",
            "[300/876]  0.001   0.903   0.021   0.030\n",
            "[600/876]  0.001   0.951   0.016   0.023\n",
            "*************** Epoch 22 ***************\n",
            " [Epoch] |  Loss  |  R2  |  MAE  |  RMSE  \n",
            "[300/876]  0.000   0.918   0.016   0.019\n",
            "[600/876]  0.000   0.945   0.014   0.019\n",
            "*************** Epoch 23 ***************\n",
            " [Epoch] |  Loss  |  R2  |  MAE  |  RMSE  \n",
            "[300/876]  0.001   0.946   0.016   0.025\n",
            "[600/876]  0.008   0.399   0.035   0.089\n",
            "*************** Epoch 24 ***************\n",
            " [Epoch] |  Loss  |  R2  |  MAE  |  RMSE  \n",
            "[300/876]  0.000   0.935   0.014   0.018\n",
            "[600/876]  0.001   0.939   0.020   0.029\n",
            "*************** Epoch 25 ***************\n",
            " [Epoch] |  Loss  |  R2  |  MAE  |  RMSE  \n",
            "[300/876]  0.000   0.940   0.016   0.021\n",
            "[600/876]  0.000   0.976   0.011   0.014\n",
            "*************** Epoch 26 ***************\n",
            " [Epoch] |  Loss  |  R2  |  MAE  |  RMSE  \n",
            "[300/876]  0.001   0.863   0.020   0.028\n",
            "[600/876]  0.001   0.873   0.017   0.025\n",
            "*************** Epoch 27 ***************\n",
            " [Epoch] |  Loss  |  R2  |  MAE  |  RMSE  \n",
            "[300/876]  0.001   0.944   0.022   0.027\n",
            "[600/876]  0.001   0.898   0.020   0.025\n",
            "*************** Epoch 28 ***************\n",
            " [Epoch] |  Loss  |  R2  |  MAE  |  RMSE  \n",
            "[300/876]  0.002   0.787   0.021   0.041\n",
            "[600/876]  0.001   0.893   0.022   0.030\n",
            "*************** Epoch 29 ***************\n",
            " [Epoch] |  Loss  |  R2  |  MAE  |  RMSE  \n",
            "[300/876]  0.000   0.927   0.016   0.021\n",
            "[600/876]  0.000   0.932   0.014   0.018\n",
            "*************** Epoch 30 ***************\n",
            " [Epoch] |  Loss  |  R2  |  MAE  |  RMSE  \n",
            "[300/876]  0.001   0.861   0.018   0.024\n",
            "[600/876]  0.000   0.927   0.013   0.019\n",
            "*************** Epoch 31 ***************\n",
            " [Epoch] |  Loss  |  R2  |  MAE  |  RMSE  \n",
            "[300/876]  0.001   0.891   0.022   0.025\n",
            "[600/876]  0.001   0.913   0.016   0.024\n",
            "*************** Epoch 32 ***************\n",
            " [Epoch] |  Loss  |  R2  |  MAE  |  RMSE  \n",
            "[300/876]  0.000   0.969   0.012   0.016\n",
            "[600/876]  0.000   0.946   0.016   0.019\n",
            "*************** Epoch 33 ***************\n",
            " [Epoch] |  Loss  |  R2  |  MAE  |  RMSE  \n",
            "[300/876]  0.001   0.955   0.019   0.024\n",
            "[600/876]  0.000   0.966   0.012   0.014\n",
            "*************** Epoch 34 ***************\n",
            " [Epoch] |  Loss  |  R2  |  MAE  |  RMSE  \n",
            "[300/876]  0.000   0.948   0.015   0.017\n",
            "[600/876]  0.000   0.935   0.016   0.021\n",
            "*************** Epoch 35 ***************\n",
            " [Epoch] |  Loss  |  R2  |  MAE  |  RMSE  \n",
            "[300/876]  0.001   0.848   0.020   0.029\n",
            "[600/876]  0.001   0.890   0.018   0.033\n",
            "*************** Epoch 36 ***************\n",
            " [Epoch] |  Loss  |  R2  |  MAE  |  RMSE  \n",
            "[300/876]  0.001   0.878   0.019   0.029\n",
            "[600/876]  0.001   0.965   0.018   0.023\n",
            "*************** Epoch 37 ***************\n",
            " [Epoch] |  Loss  |  R2  |  MAE  |  RMSE  \n",
            "[300/876]  0.001   0.879   0.019   0.029\n",
            "[600/876]  0.002   0.847   0.019   0.043\n",
            "*************** Epoch 38 ***************\n",
            " [Epoch] |  Loss  |  R2  |  MAE  |  RMSE  \n",
            "[300/876]  0.001   0.959   0.016   0.023\n",
            "[600/876]  0.001   0.947   0.017   0.028\n",
            "*************** Epoch 39 ***************\n",
            " [Epoch] |  Loss  |  R2  |  MAE  |  RMSE  \n",
            "[300/876]  0.000   0.942   0.016   0.020\n",
            "[600/876]  0.000   0.969   0.013   0.018\n",
            "*************** Epoch 40 ***************\n",
            " [Epoch] |  Loss  |  R2  |  MAE  |  RMSE  \n",
            "[300/876]  0.000   0.933   0.016   0.022\n",
            "[600/876]  0.000   0.938   0.015   0.018\n",
            "*************** Epoch 41 ***************\n",
            " [Epoch] |  Loss  |  R2  |  MAE  |  RMSE  \n",
            "[300/876]  0.000   0.952   0.014   0.016\n",
            "[600/876]  0.001   0.958   0.017   0.023\n",
            "*************** Epoch 42 ***************\n",
            " [Epoch] |  Loss  |  R2  |  MAE  |  RMSE  \n",
            "[300/876]  0.000   0.920   0.014   0.022\n",
            "[600/876]  0.001   0.923   0.021   0.033\n",
            "*************** Epoch 43 ***************\n",
            " [Epoch] |  Loss  |  R2  |  MAE  |  RMSE  \n",
            "[300/876]  0.001   0.852   0.018   0.025\n",
            "[600/876]  0.000   0.943   0.016   0.021\n",
            "*************** Epoch 44 ***************\n",
            " [Epoch] |  Loss  |  R2  |  MAE  |  RMSE  \n",
            "[300/876]  0.001   0.776   0.017   0.026\n",
            "[600/876]  0.000   0.966   0.014   0.019\n",
            "*************** Epoch 45 ***************\n",
            " [Epoch] |  Loss  |  R2  |  MAE  |  RMSE  \n",
            "[300/876]  0.000   0.887   0.015   0.019\n",
            "[600/876]  0.000   0.960   0.011   0.014\n",
            "*************** Epoch 46 ***************\n",
            " [Epoch] |  Loss  |  R2  |  MAE  |  RMSE  \n",
            "[300/876]  0.001   0.925   0.019   0.030\n",
            "[600/876]  0.000   0.950   0.015   0.020\n",
            "*************** Epoch 47 ***************\n",
            " [Epoch] |  Loss  |  R2  |  MAE  |  RMSE  \n",
            "[300/876]  0.000   0.888   0.016   0.020\n",
            "[600/876]  0.001   0.845   0.025   0.038\n",
            "*************** Epoch 48 ***************\n",
            " [Epoch] |  Loss  |  R2  |  MAE  |  RMSE  \n",
            "[300/876]  0.001   0.945   0.018   0.023\n",
            "[600/876]  0.000   0.954   0.013   0.018\n",
            "*************** Epoch 49 ***************\n",
            " [Epoch] |  Loss  |  R2  |  MAE  |  RMSE  \n",
            "[300/876]  0.000   0.947   0.013   0.020\n",
            "[600/876]  0.001   0.931   0.017   0.027\n",
            "*************** Epoch 50 ***************\n",
            " [Epoch] |  Loss  |  R2  |  MAE  |  RMSE  \n",
            "[300/876]  0.000   0.970   0.011   0.014\n",
            "[600/876]  0.002   0.810   0.026   0.040\n"
          ]
        }
      ]
    },
    {
      "cell_type": "code",
      "source": [
        "model7 = CNN_LSTM(seq_size=24*7)\n",
        "model7.to(device)\n",
        "criterion = torch.nn.MSELoss()\n",
        "optimizer = torch.optim.Adam(model7.parameters(),\n",
        "                                lr=0.001, weight_decay=0.0001)\n",
        "\n",
        "mse_metric = MeanSquaredError().to(device)\n",
        "mae_metric = MeanAbsoluteError().to(device)\n",
        "r2_metric = R2Score().to(device)\n",
        "train7_dataloader = DataLoader(train7_dataset,\n",
        "                              batch_size = 32, shuffle=True)"
      ],
      "metadata": {
        "id": "gpXsenKpgEs3"
      },
      "execution_count": null,
      "outputs": []
    },
    {
      "cell_type": "code",
      "source": [
        "# learning loop\n",
        "r2s = []\n",
        "maes = []\n",
        "rmses = []\n",
        "EPOCHS = 50\n",
        "\n",
        "n_total = len(train7_dataloader)\n",
        "for epoch in range(1, EPOCHS+1):\n",
        "  targets = []\n",
        "  print(f\"*************** Epoch {epoch} ***************\")\n",
        "  print(\" [Epoch] |  Loss  |  R2  |  MAE  |  MSE  \")\n",
        "  for i, (inputs, target) in enumerate(train7_dataloader):\n",
        "    \n",
        "    inputs = inputs.to(device)\n",
        "    target = target.to(device)\n",
        "\n",
        "    predicted = model7(inputs)\n",
        "    \n",
        "    optimizer.zero_grad()\n",
        "    loss = criterion(predicted, target)\n",
        "    loss.backward()\n",
        "    optimizer.step()\n",
        "\n",
        "    \n",
        "    if (i+1) % 300 == 0:\n",
        "      with torch.no_grad():\n",
        "        r2 = r2_metric(predicted, target)\n",
        "        mae = mae_metric(predicted, target)\n",
        "        mse = mse_metric(predicted, target)\n",
        "        print(f\"[{i+1}/{n_total}]  {loss.item():.3f}   {r2.item():.3f}   {mae.item():.3f}   {torch.sqrt(mse).item():.3f}\")\n",
        "  \n",
        "  r2s.append(r2.item())\n",
        "  maes.append(mae.item())\n",
        "  rmses.append(torch.sqrt(mse).item())\n"
      ],
      "metadata": {
        "colab": {
          "base_uri": "https://localhost:8080/"
        },
        "id": "lsgDTqjegRo0",
        "outputId": "75b00685-b66e-42ad-c619-9cec56958663"
      },
      "execution_count": null,
      "outputs": [
        {
          "output_type": "stream",
          "name": "stdout",
          "text": [
            "*************** Epoch 1 ***************\n",
            " [Epoch] |  Loss  |  R2  |  MAE  |  MSE  \n",
            "[300/873]  0.001   0.891   0.018   0.028\n",
            "[600/873]  0.001   0.822   0.030   0.038\n",
            "*************** Epoch 2 ***************\n",
            " [Epoch] |  Loss  |  R2  |  MAE  |  MSE  \n",
            "[300/873]  0.000   0.925   0.015   0.020\n",
            "[600/873]  0.001   0.954   0.017   0.025\n",
            "*************** Epoch 3 ***************\n",
            " [Epoch] |  Loss  |  R2  |  MAE  |  MSE  \n",
            "[300/873]  0.001   0.752   0.020   0.026\n",
            "[600/873]  0.000   0.946   0.017   0.021\n",
            "*************** Epoch 4 ***************\n",
            " [Epoch] |  Loss  |  R2  |  MAE  |  MSE  \n",
            "[300/873]  0.001   0.837   0.019   0.026\n",
            "[600/873]  0.000   0.935   0.018   0.022\n",
            "*************** Epoch 5 ***************\n",
            " [Epoch] |  Loss  |  R2  |  MAE  |  MSE  \n",
            "[300/873]  0.002   0.772   0.025   0.039\n",
            "[600/873]  0.001   0.961   0.020   0.023\n",
            "*************** Epoch 6 ***************\n",
            " [Epoch] |  Loss  |  R2  |  MAE  |  MSE  \n",
            "[300/873]  0.000   0.961   0.016   0.020\n",
            "[600/873]  0.001   0.914   0.018   0.024\n",
            "*************** Epoch 7 ***************\n",
            " [Epoch] |  Loss  |  R2  |  MAE  |  MSE  \n",
            "[300/873]  0.001   0.856   0.017   0.024\n",
            "[600/873]  0.000   0.945   0.014   0.017\n",
            "*************** Epoch 8 ***************\n",
            " [Epoch] |  Loss  |  R2  |  MAE  |  MSE  \n",
            "[300/873]  0.001   0.946   0.018   0.025\n",
            "[600/873]  0.001   0.928   0.022   0.025\n",
            "*************** Epoch 9 ***************\n",
            " [Epoch] |  Loss  |  R2  |  MAE  |  MSE  \n",
            "[300/873]  0.001   0.863   0.026   0.037\n",
            "[600/873]  0.001   0.911   0.020   0.025\n",
            "*************** Epoch 10 ***************\n",
            " [Epoch] |  Loss  |  R2  |  MAE  |  MSE  \n",
            "[300/873]  0.000   0.932   0.012   0.017\n",
            "[600/873]  0.000   0.902   0.017   0.022\n",
            "*************** Epoch 11 ***************\n",
            " [Epoch] |  Loss  |  R2  |  MAE  |  MSE  \n",
            "[300/873]  0.003   0.765   0.025   0.054\n",
            "[600/873]  0.000   0.883   0.016   0.020\n",
            "*************** Epoch 12 ***************\n",
            " [Epoch] |  Loss  |  R2  |  MAE  |  MSE  \n",
            "[300/873]  0.001   0.872   0.022   0.027\n",
            "[600/873]  0.001   0.894   0.021   0.027\n",
            "*************** Epoch 13 ***************\n",
            " [Epoch] |  Loss  |  R2  |  MAE  |  MSE  \n",
            "[300/873]  0.001   0.941   0.018   0.024\n",
            "[600/873]  0.001   0.905   0.021   0.025\n",
            "*************** Epoch 14 ***************\n",
            " [Epoch] |  Loss  |  R2  |  MAE  |  MSE  \n",
            "[300/873]  0.002   0.849   0.027   0.041\n",
            "[600/873]  0.000   0.913   0.016   0.022\n",
            "*************** Epoch 15 ***************\n",
            " [Epoch] |  Loss  |  R2  |  MAE  |  MSE  \n",
            "[300/873]  0.000   0.929   0.014   0.022\n",
            "[600/873]  0.000   0.949   0.017   0.021\n",
            "*************** Epoch 16 ***************\n",
            " [Epoch] |  Loss  |  R2  |  MAE  |  MSE  \n",
            "[300/873]  0.001   0.861   0.017   0.029\n",
            "[600/873]  0.000   0.939   0.015   0.018\n",
            "*************** Epoch 17 ***************\n",
            " [Epoch] |  Loss  |  R2  |  MAE  |  MSE  \n",
            "[300/873]  0.001   0.942   0.016   0.023\n",
            "[600/873]  0.000   0.964   0.015   0.018\n",
            "*************** Epoch 18 ***************\n",
            " [Epoch] |  Loss  |  R2  |  MAE  |  MSE  \n",
            "[300/873]  0.003   0.783   0.024   0.054\n",
            "[600/873]  0.001   0.943   0.019   0.026\n",
            "*************** Epoch 19 ***************\n",
            " [Epoch] |  Loss  |  R2  |  MAE  |  MSE  \n",
            "[300/873]  0.001   0.948   0.017   0.024\n",
            "[600/873]  0.002   0.891   0.025   0.044\n",
            "*************** Epoch 20 ***************\n",
            " [Epoch] |  Loss  |  R2  |  MAE  |  MSE  \n",
            "[300/873]  0.001   0.863   0.020   0.033\n",
            "[600/873]  0.001   0.864   0.022   0.027\n",
            "*************** Epoch 21 ***************\n",
            " [Epoch] |  Loss  |  R2  |  MAE  |  MSE  \n",
            "[300/873]  0.001   0.904   0.017   0.023\n",
            "[600/873]  0.000   0.940   0.011   0.014\n",
            "*************** Epoch 22 ***************\n",
            " [Epoch] |  Loss  |  R2  |  MAE  |  MSE  \n",
            "[300/873]  0.001   0.930   0.021   0.027\n",
            "[600/873]  0.001   0.934   0.021   0.028\n",
            "*************** Epoch 23 ***************\n",
            " [Epoch] |  Loss  |  R2  |  MAE  |  MSE  \n",
            "[300/873]  0.000   0.931   0.017   0.022\n",
            "[600/873]  0.001   0.948   0.016   0.028\n",
            "*************** Epoch 24 ***************\n",
            " [Epoch] |  Loss  |  R2  |  MAE  |  MSE  \n",
            "[300/873]  0.002   0.913   0.026   0.042\n",
            "[600/873]  0.001   0.925   0.023   0.028\n",
            "*************** Epoch 25 ***************\n",
            " [Epoch] |  Loss  |  R2  |  MAE  |  MSE  \n",
            "[300/873]  0.001   0.864   0.022   0.038\n",
            "[600/873]  0.000   0.942   0.013   0.015\n",
            "*************** Epoch 26 ***************\n",
            " [Epoch] |  Loss  |  R2  |  MAE  |  MSE  \n",
            "[300/873]  0.003   0.834   0.033   0.051\n",
            "[600/873]  0.000   0.917   0.014   0.020\n",
            "*************** Epoch 27 ***************\n",
            " [Epoch] |  Loss  |  R2  |  MAE  |  MSE  \n",
            "[300/873]  0.000   0.877   0.018   0.021\n",
            "[600/873]  0.001   0.891   0.021   0.026\n",
            "*************** Epoch 28 ***************\n",
            " [Epoch] |  Loss  |  R2  |  MAE  |  MSE  \n",
            "[300/873]  0.001   0.926   0.022   0.028\n",
            "[600/873]  0.002   0.857   0.025   0.042\n",
            "*************** Epoch 29 ***************\n",
            " [Epoch] |  Loss  |  R2  |  MAE  |  MSE  \n",
            "[300/873]  0.001   0.926   0.023   0.034\n",
            "[600/873]  0.001   0.902   0.019   0.025\n",
            "*************** Epoch 30 ***************\n",
            " [Epoch] |  Loss  |  R2  |  MAE  |  MSE  \n",
            "[300/873]  0.000   0.910   0.015   0.021\n",
            "[600/873]  0.001   0.952   0.020   0.027\n",
            "*************** Epoch 31 ***************\n",
            " [Epoch] |  Loss  |  R2  |  MAE  |  MSE  \n",
            "[300/873]  0.001   0.819   0.021   0.031\n",
            "[600/873]  0.000   0.947   0.014   0.017\n",
            "*************** Epoch 32 ***************\n",
            " [Epoch] |  Loss  |  R2  |  MAE  |  MSE  \n",
            "[300/873]  0.002   0.839   0.029   0.039\n",
            "[600/873]  0.002   0.860   0.024   0.040\n",
            "*************** Epoch 33 ***************\n",
            " [Epoch] |  Loss  |  R2  |  MAE  |  MSE  \n",
            "[300/873]  0.003   0.740   0.028   0.056\n",
            "[600/873]  0.004   0.774   0.032   0.062\n",
            "*************** Epoch 34 ***************\n",
            " [Epoch] |  Loss  |  R2  |  MAE  |  MSE  \n",
            "[300/873]  0.001   0.931   0.019   0.027\n",
            "[600/873]  0.000   0.962   0.013   0.017\n",
            "*************** Epoch 35 ***************\n",
            " [Epoch] |  Loss  |  R2  |  MAE  |  MSE  \n",
            "[300/873]  0.000   0.944   0.016   0.020\n",
            "[600/873]  0.000   0.919   0.015   0.019\n",
            "*************** Epoch 36 ***************\n",
            " [Epoch] |  Loss  |  R2  |  MAE  |  MSE  \n",
            "[300/873]  0.000   0.907   0.017   0.021\n",
            "[600/873]  0.000   0.922   0.015   0.021\n",
            "*************** Epoch 37 ***************\n",
            " [Epoch] |  Loss  |  R2  |  MAE  |  MSE  \n",
            "[300/873]  0.000   0.935   0.012   0.015\n",
            "[600/873]  0.001   0.841   0.017   0.024\n",
            "*************** Epoch 38 ***************\n",
            " [Epoch] |  Loss  |  R2  |  MAE  |  MSE  \n",
            "[300/873]  0.001   0.895   0.018   0.025\n",
            "[600/873]  0.001   0.846   0.025   0.035\n",
            "*************** Epoch 39 ***************\n",
            " [Epoch] |  Loss  |  R2  |  MAE  |  MSE  \n",
            "[300/873]  0.001   0.754   0.016   0.024\n",
            "[600/873]  0.001   0.930   0.019   0.027\n",
            "*************** Epoch 40 ***************\n",
            " [Epoch] |  Loss  |  R2  |  MAE  |  MSE  \n",
            "[300/873]  0.000   0.923   0.017   0.021\n",
            "[600/873]  0.000   0.951   0.017   0.021\n",
            "*************** Epoch 41 ***************\n",
            " [Epoch] |  Loss  |  R2  |  MAE  |  MSE  \n",
            "[300/873]  0.001   0.925   0.019   0.023\n",
            "[600/873]  0.002   0.644   0.029   0.050\n",
            "*************** Epoch 42 ***************\n",
            " [Epoch] |  Loss  |  R2  |  MAE  |  MSE  \n",
            "[300/873]  0.001   0.943   0.021   0.031\n",
            "[600/873]  0.001   0.864   0.022   0.029\n",
            "*************** Epoch 43 ***************\n",
            " [Epoch] |  Loss  |  R2  |  MAE  |  MSE  \n",
            "[300/873]  0.001   0.914   0.018   0.026\n",
            "[600/873]  0.000   0.930   0.017   0.021\n",
            "*************** Epoch 44 ***************\n",
            " [Epoch] |  Loss  |  R2  |  MAE  |  MSE  \n",
            "[300/873]  0.002   0.894   0.022   0.045\n",
            "[600/873]  0.000   0.927   0.013   0.018\n",
            "*************** Epoch 45 ***************\n",
            " [Epoch] |  Loss  |  R2  |  MAE  |  MSE  \n",
            "[300/873]  0.003   0.812   0.028   0.050\n",
            "[600/873]  0.001   0.944   0.015   0.025\n",
            "*************** Epoch 46 ***************\n",
            " [Epoch] |  Loss  |  R2  |  MAE  |  MSE  \n",
            "[300/873]  0.000   0.948   0.016   0.021\n",
            "[600/873]  0.001   0.878   0.022   0.036\n",
            "*************** Epoch 47 ***************\n",
            " [Epoch] |  Loss  |  R2  |  MAE  |  MSE  \n",
            "[300/873]  0.001   0.925   0.015   0.024\n",
            "[600/873]  0.002   0.819   0.025   0.040\n",
            "*************** Epoch 48 ***************\n",
            " [Epoch] |  Loss  |  R2  |  MAE  |  MSE  \n",
            "[300/873]  0.001   0.928   0.016   0.024\n",
            "[600/873]  0.002   0.903   0.026   0.044\n",
            "*************** Epoch 49 ***************\n",
            " [Epoch] |  Loss  |  R2  |  MAE  |  MSE  \n",
            "[300/873]  0.007   0.549   0.029   0.081\n",
            "[600/873]  0.000   0.970   0.014   0.017\n",
            "*************** Epoch 50 ***************\n",
            " [Epoch] |  Loss  |  R2  |  MAE  |  MSE  \n",
            "[300/873]  0.002   0.864   0.022   0.043\n",
            "[600/873]  0.000   0.931   0.017   0.022\n"
          ]
        }
      ]
    },
    {
      "cell_type": "markdown",
      "source": [
        "### 5. Test"
      ],
      "metadata": {
        "id": "K0XlyFm4oPdy"
      }
    },
    {
      "cell_type": "markdown",
      "source": [
        "First test on `model1` on 24 hours dataset"
      ],
      "metadata": {
        "id": "wPDblgceqMMj"
      }
    },
    {
      "cell_type": "code",
      "source": [
        "with torch.no_grad():\n",
        "  preds = model1(test1_dataset.input.to(device))\n",
        "  target = test1_dataset.target.to(device)\n",
        "  r2 = r2_metric(preds, target)\n",
        "  mae = mae_metric(preds, target)\n",
        "  mse = mse_metric(preds, target)\n",
        "  print(f\"R2: {r2.item():.3f}, MAE: {mae.item():.3f}, RMSE: {torch.sqrt(mse).item():.3f}\")\n"
      ],
      "metadata": {
        "colab": {
          "base_uri": "https://localhost:8080/"
        },
        "id": "hv2HAm2toVeD",
        "outputId": "9964d31b-0310-441e-f486-0ebf2cf6e5a5"
      },
      "execution_count": null,
      "outputs": [
        {
          "output_type": "stream",
          "name": "stdout",
          "text": [
            "R2: 0.818, MAE: 0.028, RMSE: 0.040\n"
          ]
        }
      ]
    },
    {
      "cell_type": "markdown",
      "source": [
        "Test `model7` on 7 days test data"
      ],
      "metadata": {
        "id": "yW3-ktJ7qHj8"
      }
    },
    {
      "cell_type": "code",
      "source": [
        "with torch.no_grad():\n",
        "  preds = model7(test7_dataset.input.to(device))\n",
        "  target = test7_dataset.target.to(device)\n",
        "  r2 = r2_metric(preds, target)\n",
        "  mae = mae_metric(preds, target)\n",
        "  mse = mse_metric(preds, target)\n",
        "  print(f\"R2: {r2.item():.3f}, MAE: {mae.item():.3f}, RMSE: {torch.sqrt(mse).item():.3f}\")\n"
      ],
      "metadata": {
        "colab": {
          "base_uri": "https://localhost:8080/"
        },
        "id": "XQ5sRgw2op5s",
        "outputId": "65558c27-20d6-45bc-cb78-1f5c1709efd9"
      },
      "execution_count": null,
      "outputs": [
        {
          "output_type": "stream",
          "name": "stdout",
          "text": [
            "R2: 0.930, MAE: 0.016, RMSE: 0.025\n"
          ]
        }
      ]
    },
    {
      "cell_type": "markdown",
      "source": [
        "## Q2) Fake NEWS Detection"
      ],
      "metadata": {
        "id": "ajW1GktnLHC8"
      }
    },
    {
      "cell_type": "markdown",
      "source": [
        "### 1. Loading & Preprocessing The data"
      ],
      "metadata": {
        "id": "T8xZKmRysyBL"
      }
    },
    {
      "cell_type": "code",
      "source": [
        "# if file is on colab\n",
        "# from google.colab import drive\n",
        "# drive.mount('/content/drive')\n",
        "# %cp drive/MyDrive/Datasets/NNDL_HW04/* ."
      ],
      "metadata": {
        "id": "MscKbxAK0Peo"
      },
      "execution_count": 4,
      "outputs": []
    },
    {
      "cell_type": "code",
      "source": [
        "df = pd.read_csv(\"./FA-KES-Dataset.csv\", encoding=\"unicode-escape\")\n",
        "df"
      ],
      "metadata": {
        "colab": {
          "base_uri": "https://localhost:8080/",
          "height": 678
        },
        "id": "ohqpJZMbuN5W",
        "outputId": "b2f05218-421a-444d-8d21-f7c18b54e2fe"
      },
      "execution_count": 5,
      "outputs": [
        {
          "output_type": "execute_result",
          "data": {
            "text/plain": [
              "        unit_id                                      article_title  \\\n",
              "0    1914947530  Syria attack symptoms consistent with nerve ag...   \n",
              "1    1914947532  Homs governor says U.S. attack caused deaths b...   \n",
              "2    1914947533    Death toll from Aleppo bomb attack at least 112   \n",
              "3    1914947534        Aleppo bomb blast kills six Syrian state TV   \n",
              "4    1914947535  29 Syria Rebels Dead in Fighting for Key Alepp...   \n",
              "..          ...                                                ...   \n",
              "799  1965511221    Turkish Bombardment Kills 20 Civilians in Syria   \n",
              "800  1965511222    Martyrs as Terrorists Shell Aleppos Salah Eddin   \n",
              "801  1965511224  Chemical Attack Kills Five Syrians in Aleppo SANA   \n",
              "802  1965511226  5 Killed as Russian Military Chopper Shot down...   \n",
              "803  1965511231  Syrian Army Kills 48 ISIL Terrorists in Deir E...   \n",
              "\n",
              "                                       article_content source       date  \\\n",
              "0    Wed 05 Apr 2017 Syria attack symptoms consiste...    nna   4/5/2017   \n",
              "1    Fri 07 Apr 2017 at 0914 Homs governor says U.S...    nna   4/7/2017   \n",
              "2    Sun 16 Apr 2017 Death toll from Aleppo bomb at...    nna  4/16/2017   \n",
              "3    Wed 19 Apr 2017 Aleppo bomb blast kills six Sy...    nna  4/19/2017   \n",
              "4    Sun 10 Jul 2016 29 Syria Rebels Dead in Fighti...    nna  7/10/2016   \n",
              "..                                                 ...    ...        ...   \n",
              "799  28-08-2016 Turkish Bombardment Kills 20 Civili...  manar  8/28/2016   \n",
              "800  17-08-2016 Martyrs as Terrorists Shell Aleppos...  manar   8/1/2016   \n",
              "801  03-08-2016 Chemical Attack Kills Five Syrians ...  manar   8/3/2016   \n",
              "802  01-08-2016 5 Killed as Russian Military Choppe...  manar   8/1/2016   \n",
              "803  April 6 2017 Syrian Army Kills 48 ISIL Terrori...  manar   4/4/2017   \n",
              "\n",
              "       location  labels  \n",
              "0         idlib       0  \n",
              "1          homs       0  \n",
              "2        aleppo       0  \n",
              "3        aleppo       0  \n",
              "4        aleppo       0  \n",
              "..          ...     ...  \n",
              "799      aleppo       1  \n",
              "800      aleppo       1  \n",
              "801      aleppo       0  \n",
              "802       idlib       1  \n",
              "803  deir ezzor       1  \n",
              "\n",
              "[804 rows x 7 columns]"
            ],
            "text/html": [
              "\n",
              "  <div id=\"df-bf163489-d099-47ad-9910-34da9b47ce81\">\n",
              "    <div class=\"colab-df-container\">\n",
              "      <div>\n",
              "<style scoped>\n",
              "    .dataframe tbody tr th:only-of-type {\n",
              "        vertical-align: middle;\n",
              "    }\n",
              "\n",
              "    .dataframe tbody tr th {\n",
              "        vertical-align: top;\n",
              "    }\n",
              "\n",
              "    .dataframe thead th {\n",
              "        text-align: right;\n",
              "    }\n",
              "</style>\n",
              "<table border=\"1\" class=\"dataframe\">\n",
              "  <thead>\n",
              "    <tr style=\"text-align: right;\">\n",
              "      <th></th>\n",
              "      <th>unit_id</th>\n",
              "      <th>article_title</th>\n",
              "      <th>article_content</th>\n",
              "      <th>source</th>\n",
              "      <th>date</th>\n",
              "      <th>location</th>\n",
              "      <th>labels</th>\n",
              "    </tr>\n",
              "  </thead>\n",
              "  <tbody>\n",
              "    <tr>\n",
              "      <th>0</th>\n",
              "      <td>1914947530</td>\n",
              "      <td>Syria attack symptoms consistent with nerve ag...</td>\n",
              "      <td>Wed 05 Apr 2017 Syria attack symptoms consiste...</td>\n",
              "      <td>nna</td>\n",
              "      <td>4/5/2017</td>\n",
              "      <td>idlib</td>\n",
              "      <td>0</td>\n",
              "    </tr>\n",
              "    <tr>\n",
              "      <th>1</th>\n",
              "      <td>1914947532</td>\n",
              "      <td>Homs governor says U.S. attack caused deaths b...</td>\n",
              "      <td>Fri 07 Apr 2017 at 0914 Homs governor says U.S...</td>\n",
              "      <td>nna</td>\n",
              "      <td>4/7/2017</td>\n",
              "      <td>homs</td>\n",
              "      <td>0</td>\n",
              "    </tr>\n",
              "    <tr>\n",
              "      <th>2</th>\n",
              "      <td>1914947533</td>\n",
              "      <td>Death toll from Aleppo bomb attack at least 112</td>\n",
              "      <td>Sun 16 Apr 2017 Death toll from Aleppo bomb at...</td>\n",
              "      <td>nna</td>\n",
              "      <td>4/16/2017</td>\n",
              "      <td>aleppo</td>\n",
              "      <td>0</td>\n",
              "    </tr>\n",
              "    <tr>\n",
              "      <th>3</th>\n",
              "      <td>1914947534</td>\n",
              "      <td>Aleppo bomb blast kills six Syrian state TV</td>\n",
              "      <td>Wed 19 Apr 2017 Aleppo bomb blast kills six Sy...</td>\n",
              "      <td>nna</td>\n",
              "      <td>4/19/2017</td>\n",
              "      <td>aleppo</td>\n",
              "      <td>0</td>\n",
              "    </tr>\n",
              "    <tr>\n",
              "      <th>4</th>\n",
              "      <td>1914947535</td>\n",
              "      <td>29 Syria Rebels Dead in Fighting for Key Alepp...</td>\n",
              "      <td>Sun 10 Jul 2016 29 Syria Rebels Dead in Fighti...</td>\n",
              "      <td>nna</td>\n",
              "      <td>7/10/2016</td>\n",
              "      <td>aleppo</td>\n",
              "      <td>0</td>\n",
              "    </tr>\n",
              "    <tr>\n",
              "      <th>...</th>\n",
              "      <td>...</td>\n",
              "      <td>...</td>\n",
              "      <td>...</td>\n",
              "      <td>...</td>\n",
              "      <td>...</td>\n",
              "      <td>...</td>\n",
              "      <td>...</td>\n",
              "    </tr>\n",
              "    <tr>\n",
              "      <th>799</th>\n",
              "      <td>1965511221</td>\n",
              "      <td>Turkish Bombardment Kills 20 Civilians in Syria</td>\n",
              "      <td>28-08-2016 Turkish Bombardment Kills 20 Civili...</td>\n",
              "      <td>manar</td>\n",
              "      <td>8/28/2016</td>\n",
              "      <td>aleppo</td>\n",
              "      <td>1</td>\n",
              "    </tr>\n",
              "    <tr>\n",
              "      <th>800</th>\n",
              "      <td>1965511222</td>\n",
              "      <td>Martyrs as Terrorists Shell Aleppos Salah Eddin</td>\n",
              "      <td>17-08-2016 Martyrs as Terrorists Shell Aleppos...</td>\n",
              "      <td>manar</td>\n",
              "      <td>8/1/2016</td>\n",
              "      <td>aleppo</td>\n",
              "      <td>1</td>\n",
              "    </tr>\n",
              "    <tr>\n",
              "      <th>801</th>\n",
              "      <td>1965511224</td>\n",
              "      <td>Chemical Attack Kills Five Syrians in Aleppo SANA</td>\n",
              "      <td>03-08-2016 Chemical Attack Kills Five Syrians ...</td>\n",
              "      <td>manar</td>\n",
              "      <td>8/3/2016</td>\n",
              "      <td>aleppo</td>\n",
              "      <td>0</td>\n",
              "    </tr>\n",
              "    <tr>\n",
              "      <th>802</th>\n",
              "      <td>1965511226</td>\n",
              "      <td>5 Killed as Russian Military Chopper Shot down...</td>\n",
              "      <td>01-08-2016 5 Killed as Russian Military Choppe...</td>\n",
              "      <td>manar</td>\n",
              "      <td>8/1/2016</td>\n",
              "      <td>idlib</td>\n",
              "      <td>1</td>\n",
              "    </tr>\n",
              "    <tr>\n",
              "      <th>803</th>\n",
              "      <td>1965511231</td>\n",
              "      <td>Syrian Army Kills 48 ISIL Terrorists in Deir E...</td>\n",
              "      <td>April 6 2017 Syrian Army Kills 48 ISIL Terrori...</td>\n",
              "      <td>manar</td>\n",
              "      <td>4/4/2017</td>\n",
              "      <td>deir ezzor</td>\n",
              "      <td>1</td>\n",
              "    </tr>\n",
              "  </tbody>\n",
              "</table>\n",
              "<p>804 rows × 7 columns</p>\n",
              "</div>\n",
              "      <button class=\"colab-df-convert\" onclick=\"convertToInteractive('df-bf163489-d099-47ad-9910-34da9b47ce81')\"\n",
              "              title=\"Convert this dataframe to an interactive table.\"\n",
              "              style=\"display:none;\">\n",
              "        \n",
              "  <svg xmlns=\"http://www.w3.org/2000/svg\" height=\"24px\"viewBox=\"0 0 24 24\"\n",
              "       width=\"24px\">\n",
              "    <path d=\"M0 0h24v24H0V0z\" fill=\"none\"/>\n",
              "    <path d=\"M18.56 5.44l.94 2.06.94-2.06 2.06-.94-2.06-.94-.94-2.06-.94 2.06-2.06.94zm-11 1L8.5 8.5l.94-2.06 2.06-.94-2.06-.94L8.5 2.5l-.94 2.06-2.06.94zm10 10l.94 2.06.94-2.06 2.06-.94-2.06-.94-.94-2.06-.94 2.06-2.06.94z\"/><path d=\"M17.41 7.96l-1.37-1.37c-.4-.4-.92-.59-1.43-.59-.52 0-1.04.2-1.43.59L10.3 9.45l-7.72 7.72c-.78.78-.78 2.05 0 2.83L4 21.41c.39.39.9.59 1.41.59.51 0 1.02-.2 1.41-.59l7.78-7.78 2.81-2.81c.8-.78.8-2.07 0-2.86zM5.41 20L4 18.59l7.72-7.72 1.47 1.35L5.41 20z\"/>\n",
              "  </svg>\n",
              "      </button>\n",
              "      \n",
              "  <style>\n",
              "    .colab-df-container {\n",
              "      display:flex;\n",
              "      flex-wrap:wrap;\n",
              "      gap: 12px;\n",
              "    }\n",
              "\n",
              "    .colab-df-convert {\n",
              "      background-color: #E8F0FE;\n",
              "      border: none;\n",
              "      border-radius: 50%;\n",
              "      cursor: pointer;\n",
              "      display: none;\n",
              "      fill: #1967D2;\n",
              "      height: 32px;\n",
              "      padding: 0 0 0 0;\n",
              "      width: 32px;\n",
              "    }\n",
              "\n",
              "    .colab-df-convert:hover {\n",
              "      background-color: #E2EBFA;\n",
              "      box-shadow: 0px 1px 2px rgba(60, 64, 67, 0.3), 0px 1px 3px 1px rgba(60, 64, 67, 0.15);\n",
              "      fill: #174EA6;\n",
              "    }\n",
              "\n",
              "    [theme=dark] .colab-df-convert {\n",
              "      background-color: #3B4455;\n",
              "      fill: #D2E3FC;\n",
              "    }\n",
              "\n",
              "    [theme=dark] .colab-df-convert:hover {\n",
              "      background-color: #434B5C;\n",
              "      box-shadow: 0px 1px 3px 1px rgba(0, 0, 0, 0.15);\n",
              "      filter: drop-shadow(0px 1px 2px rgba(0, 0, 0, 0.3));\n",
              "      fill: #FFFFFF;\n",
              "    }\n",
              "  </style>\n",
              "\n",
              "      <script>\n",
              "        const buttonEl =\n",
              "          document.querySelector('#df-bf163489-d099-47ad-9910-34da9b47ce81 button.colab-df-convert');\n",
              "        buttonEl.style.display =\n",
              "          google.colab.kernel.accessAllowed ? 'block' : 'none';\n",
              "\n",
              "        async function convertToInteractive(key) {\n",
              "          const element = document.querySelector('#df-bf163489-d099-47ad-9910-34da9b47ce81');\n",
              "          const dataTable =\n",
              "            await google.colab.kernel.invokeFunction('convertToInteractive',\n",
              "                                                     [key], {});\n",
              "          if (!dataTable) return;\n",
              "\n",
              "          const docLinkHtml = 'Like what you see? Visit the ' +\n",
              "            '<a target=\"_blank\" href=https://colab.research.google.com/notebooks/data_table.ipynb>data table notebook</a>'\n",
              "            + ' to learn more about interactive tables.';\n",
              "          element.innerHTML = '';\n",
              "          dataTable['output_type'] = 'display_data';\n",
              "          await google.colab.output.renderOutput(dataTable, element);\n",
              "          const docLink = document.createElement('div');\n",
              "          docLink.innerHTML = docLinkHtml;\n",
              "          element.appendChild(docLink);\n",
              "        }\n",
              "      </script>\n",
              "    </div>\n",
              "  </div>\n",
              "  "
            ]
          },
          "metadata": {},
          "execution_count": 5
        }
      ]
    },
    {
      "cell_type": "code",
      "source": [
        "articles_list = df[\"article_content\"].to_list()\n",
        "labels_list = df[\"labels\"].to_list()"
      ],
      "metadata": {
        "id": "42e6cSQ4zGxq"
      },
      "execution_count": 6,
      "outputs": []
    },
    {
      "cell_type": "code",
      "source": [
        "tokenizer = get_tokenizer(\"basic_english\")\n",
        "glove_vectors = GloVe(name=\"6B\", dim=100)"
      ],
      "metadata": {
        "id": "C31e9msJ4hTY",
        "colab": {
          "base_uri": "https://localhost:8080/"
        },
        "outputId": "428babad-28aa-4d07-8064-9c7269609e6b"
      },
      "execution_count": 7,
      "outputs": [
        {
          "output_type": "stream",
          "name": "stderr",
          "text": [
            ".vector_cache/glove.6B.zip: 862MB [02:41, 5.35MB/s]                           \n",
            "100%|█████████▉| 399999/400000 [00:15<00:00, 25944.54it/s]\n"
          ]
        }
      ]
    },
    {
      "cell_type": "markdown",
      "source": [
        "Now tokenize and embed the sentences  \n",
        "In here if sentence has more that 300 tokens we truncated it and if the sentence has less than 300 tokens we padded it with \" \" "
      ],
      "metadata": {
        "id": "_y9MrRBiOznQ"
      }
    },
    {
      "cell_type": "code",
      "source": [
        "articles_emb = []\n",
        "for a in articles_list:\n",
        "  \n",
        "  tokens = tokenizer(a)\n",
        "  tokens_len = len(tokens)\n",
        "  if tokens_len < 300:\n",
        "    tokens.extend([\"\"]*(300-tokens_len))\n",
        "  elif tokens_len > 300:\n",
        "    tokens = tokens[:300]\n",
        "\n",
        "  embeddings = glove_vectors.get_vecs_by_tokens(tokens)\n",
        "  articles_emb.append(embeddings.unsqueeze(0))\n",
        "\n",
        "\n",
        "X = torch.cat(articles_emb)\n",
        "y = torch.tensor(labels_list)"
      ],
      "metadata": {
        "id": "Lp3GVUMd0x85"
      },
      "execution_count": 8,
      "outputs": []
    },
    {
      "cell_type": "markdown",
      "source": [
        "Split the data to train and test (80-20)"
      ],
      "metadata": {
        "id": "xh6V6YH2PWH9"
      }
    },
    {
      "cell_type": "code",
      "source": [
        "X_train, X_test, y_train, y_test = train_test_split(X, y, test_size=0.2)"
      ],
      "metadata": {
        "id": "WW-76dtEMchn"
      },
      "execution_count": 9,
      "outputs": []
    },
    {
      "cell_type": "code",
      "source": [
        "class NewsDataset(Dataset):\n",
        "  def __init__(self, X: torch.Tensor, y: torch.Tensor):\n",
        "    super().__init__()\n",
        "    self.input = X\n",
        "    self.target = y\n",
        "\n",
        "  def __getitem__(self, idx):\n",
        "    return self.input[idx], self.target[idx]\n",
        "  \n",
        "  def __len__(self):\n",
        "    return self.input.shape[0]"
      ],
      "metadata": {
        "id": "li5bEysMNbZ2"
      },
      "execution_count": 10,
      "outputs": []
    },
    {
      "cell_type": "code",
      "source": [
        "train_dataset = NewsDataset(X_train, y_train)\n",
        "test_dataset = NewsDataset(X_test, y_test)"
      ],
      "metadata": {
        "id": "JT0nW3RENusH"
      },
      "execution_count": 11,
      "outputs": []
    },
    {
      "cell_type": "markdown",
      "source": [
        "### 2. Building the models"
      ],
      "metadata": {
        "id": "rhoEDjw6MowO"
      }
    },
    {
      "cell_type": "markdown",
      "source": [
        "First build the `hybrid(CNN-RNN)`"
      ],
      "metadata": {
        "id": "MpkIp0mkrR2O"
      }
    },
    {
      "cell_type": "code",
      "source": [
        "class Hybrid(nn.Module):\n",
        "  def __init__(self):\n",
        "    super().__init__()\n",
        "    self.conv1 = nn.Conv1d(300, 128, 5)     # 300 * 100 -> 128 * 96\n",
        "    self.maxpool = nn.MaxPool1d(2)          # 128 * 94 -> 128 * 48\n",
        "    self.lstm = nn.LSTM(input_size=48, hidden_size=32, batch_first=True)\n",
        "    self.fc = nn.Linear(32*128, 2)\n",
        "\n",
        "  def forward(self, x):\n",
        "    x = F.relu(self.conv1(x))\n",
        "    x = self.maxpool(x)\n",
        "    x = self.lstm(x)[0]\n",
        "    x = x.reshape((-1, 32*128))\n",
        "    x = self.fc(x)\n",
        "\n",
        "    return x"
      ],
      "metadata": {
        "id": "5n0OTtF_N6Fc"
      },
      "execution_count": 12,
      "outputs": []
    },
    {
      "cell_type": "markdown",
      "source": [
        "Now build a simple `RNN` model"
      ],
      "metadata": {
        "id": "klDi8PDcYp9O"
      }
    },
    {
      "cell_type": "code",
      "source": [
        "class RNN(nn.Module):\n",
        "  def __init__(self):\n",
        "    super().__init__()\n",
        "    self.lstm1 = nn.LSTM(input_size=100, hidden_size=64, batch_first=True)\n",
        "    self.lstm2 = nn.LSTM(input_size=64, hidden_size=32, batch_first=True)\n",
        "    self.lstm3 = nn.LSTM(input_size=32, hidden_size=8, batch_first=True)\n",
        "    self.fc = nn.Linear(300*8, 2)\n",
        "\n",
        "  def forward(self, x):\n",
        "    x = self.lstm1(x)[0]\n",
        "    x = self.lstm2(x)[0]\n",
        "    x = self.lstm3(x)[0]\n",
        "    x = x.reshape((-1, 300*8))\n",
        "    x = self.fc(x)\n",
        "    return x\n",
        "\n"
      ],
      "metadata": {
        "id": "c5z3wdMzXg_9"
      },
      "execution_count": null,
      "outputs": []
    },
    {
      "cell_type": "markdown",
      "source": [
        "### 3. Training"
      ],
      "metadata": {
        "id": "FSs--RTiN7V-"
      }
    },
    {
      "cell_type": "markdown",
      "source": [
        "#### 1.) Hybrid CNN-RNN model"
      ],
      "metadata": {
        "id": "nOrxl3m2Ytjk"
      }
    },
    {
      "cell_type": "code",
      "source": [
        "model_hyb = Hybrid()\n",
        "model_hyb.to(device)\n",
        "criterion = torch.nn.CrossEntropyLoss()\n",
        "optimizer = torch.optim.Adam(model_hyb.parameters(),\n",
        "                                lr=0.01)\n",
        "\n",
        "train_dataloader = DataLoader(train_dataset,\n",
        "                              batch_size = 64, shuffle=True)"
      ],
      "metadata": {
        "id": "cH9oUiHCN6Ng"
      },
      "execution_count": 28,
      "outputs": []
    },
    {
      "cell_type": "code",
      "source": [
        "# learning loop\n",
        "f1_list = []\n",
        "prec_list = []\n",
        "acc_list = []\n",
        "rec_list = []\n",
        "\n",
        "EPOCHS = 50\n",
        "\n",
        "n_total = len(train_dataloader)\n",
        "for epoch in range(1, EPOCHS+1):\n",
        "  targets = []\n",
        "  print(f\"*************** Epoch {epoch} ***************\")\n",
        "  print(\" [Epoch] |   Loss   |   Acc   |   Pre   |   F1    |  Recall \")\n",
        "  for i, (inputs, target) in enumerate(train_dataloader):\n",
        "    \n",
        "    inputs = inputs.to(device)\n",
        "    target = target.to(device)\n",
        "\n",
        "    predicted = model_hyb(inputs)\n",
        "    \n",
        "    optimizer.zero_grad()\n",
        "    loss = criterion(predicted, target)\n",
        "    loss.backward()\n",
        "    optimizer.step()\n",
        "\n",
        "    \n",
        "    if (i+1) % 3 == 0:\n",
        "      with torch.no_grad():\n",
        "        ac = multiclass_accuracy(predicted, target, num_classes=2).item()\n",
        "        pr = multiclass_precision(predicted, target, num_classes=2).item()\n",
        "        f1 = multiclass_f1_score(predicted, target, num_classes=2).item()\n",
        "        re = multiclass_recall(predicted, target, num_classes=2).item()\n",
        "        f1_list.append(f1)\n",
        "        prec_list.append(pr)\n",
        "        acc_list.append(ac)\n",
        "        rec_list.append(re)\n",
        "        print(f\" [{i+1}/{n_total}]  |   {loss.item():.3f}  |  {ac:.3f}  |  {pr:.3f}  |  {f1:.3f}  |  {re:.3f}\")\n"
      ],
      "metadata": {
        "colab": {
          "base_uri": "https://localhost:8080/"
        },
        "id": "eThjf9f6yW23",
        "outputId": "3a452730-303c-4a4c-a122-1f38fbe914e0"
      },
      "execution_count": 29,
      "outputs": [
        {
          "output_type": "stream",
          "name": "stdout",
          "text": [
            "*************** Epoch 1 ***************\n",
            " [Epoch] |   Loss   |   Acc   |   Pre   |   F1    |  Recall \n",
            " [3/11]  |   2.345  |  0.500  |  0.297  |  0.373  |  0.500\n",
            " [6/11]  |   0.965  |  0.500  |  0.250  |  0.333  |  0.500\n",
            " [9/11]  |   0.882  |  0.500  |  0.281  |  0.360  |  0.500\n",
            "*************** Epoch 2 ***************\n",
            " [Epoch] |   Loss   |   Acc   |   Pre   |   F1    |  Recall \n",
            " [3/11]  |   0.729  |  0.500  |  0.273  |  0.354  |  0.500\n",
            " [6/11]  |   0.803  |  0.500  |  0.234  |  0.319  |  0.500\n",
            " [9/11]  |   0.686  |  0.488  |  0.310  |  0.379  |  0.488\n",
            "*************** Epoch 3 ***************\n",
            " [Epoch] |   Loss   |   Acc   |   Pre   |   F1    |  Recall \n",
            " [3/11]  |   0.778  |  0.500  |  0.250  |  0.333  |  0.500\n",
            " [6/11]  |   0.686  |  0.500  |  0.289  |  0.366  |  0.500\n",
            " [9/11]  |   0.696  |  0.504  |  0.509  |  0.428  |  0.504\n",
            "*************** Epoch 4 ***************\n",
            " [Epoch] |   Loss   |   Acc   |   Pre   |   F1    |  Recall \n",
            " [3/11]  |   0.703  |  0.571  |  0.631  |  0.479  |  0.571\n",
            " [6/11]  |   0.716  |  0.515  |  0.738  |  0.351  |  0.515\n",
            " [9/11]  |   0.750  |  0.478  |  0.175  |  0.256  |  0.478\n",
            "*************** Epoch 5 ***************\n",
            " [Epoch] |   Loss   |   Acc   |   Pre   |   F1    |  Recall \n",
            " [3/11]  |   0.712  |  0.503  |  0.524  |  0.383  |  0.503\n",
            " [6/11]  |   0.695  |  0.500  |  0.250  |  0.333  |  0.500\n",
            " [9/11]  |   0.685  |  0.500  |  0.266  |  0.347  |  0.500\n",
            "*************** Epoch 6 ***************\n",
            " [Epoch] |   Loss   |   Acc   |   Pre   |   F1    |  Recall \n",
            " [3/11]  |   0.688  |  0.498  |  0.492  |  0.373  |  0.498\n",
            " [6/11]  |   0.673  |  0.447  |  0.283  |  0.347  |  0.447\n",
            " [9/11]  |   0.669  |  0.554  |  0.795  |  0.468  |  0.554\n",
            "*************** Epoch 7 ***************\n",
            " [Epoch] |   Loss   |   Acc   |   Pre   |   F1    |  Recall \n",
            " [3/11]  |   0.716  |  0.500  |  0.203  |  0.289  |  0.500\n",
            " [6/11]  |   0.689  |  0.500  |  0.234  |  0.319  |  0.500\n",
            " [9/11]  |   0.664  |  0.569  |  0.792  |  0.490  |  0.569\n",
            "*************** Epoch 8 ***************\n",
            " [Epoch] |   Loss   |   Acc   |   Pre   |   F1    |  Recall \n",
            " [3/11]  |   0.651  |  0.537  |  0.798  |  0.443  |  0.537\n",
            " [6/11]  |   0.640  |  0.516  |  0.762  |  0.375  |  0.516\n",
            " [9/11]  |   0.665  |  0.514  |  0.722  |  0.335  |  0.514\n",
            "*************** Epoch 9 ***************\n",
            " [Epoch] |   Loss   |   Acc   |   Pre   |   F1    |  Recall \n",
            " [3/11]  |   0.641  |  0.735  |  0.812  |  0.705  |  0.735\n",
            " [6/11]  |   0.584  |  0.883  |  0.915  |  0.887  |  0.883\n",
            " [9/11]  |   0.597  |  0.827  |  0.828  |  0.828  |  0.827\n",
            "*************** Epoch 10 ***************\n",
            " [Epoch] |   Loss   |   Acc   |   Pre   |   F1    |  Recall \n",
            " [3/11]  |   0.507  |  0.870  |  0.920  |  0.882  |  0.870\n",
            " [6/11]  |   0.497  |  0.922  |  0.926  |  0.922  |  0.922\n",
            " [9/11]  |   0.455  |  0.938  |  0.939  |  0.937  |  0.938\n",
            "*************** Epoch 11 ***************\n",
            " [Epoch] |   Loss   |   Acc   |   Pre   |   F1    |  Recall \n",
            " [3/11]  |   0.405  |  0.908  |  0.906  |  0.906  |  0.908\n",
            " [6/11]  |   0.289  |  0.917  |  0.955  |  0.931  |  0.917\n",
            " [9/11]  |   0.354  |  0.925  |  0.900  |  0.904  |  0.925\n",
            "*************** Epoch 12 ***************\n",
            " [Epoch] |   Loss   |   Acc   |   Pre   |   F1    |  Recall \n",
            " [3/11]  |   0.195  |  0.985  |  0.984  |  0.984  |  0.985\n",
            " [6/11]  |   0.224  |  0.986  |  0.982  |  0.984  |  0.986\n",
            " [9/11]  |   0.193  |  0.962  |  0.975  |  0.967  |  0.962\n",
            "*************** Epoch 13 ***************\n",
            " [Epoch] |   Loss   |   Acc   |   Pre   |   F1    |  Recall \n",
            " [3/11]  |   0.115  |  1.000  |  1.000  |  1.000  |  1.000\n",
            " [6/11]  |   0.103  |  0.986  |  0.983  |  0.984  |  0.986\n",
            " [9/11]  |   0.154  |  0.935  |  0.966  |  0.947  |  0.935\n",
            "*************** Epoch 14 ***************\n",
            " [Epoch] |   Loss   |   Acc   |   Pre   |   F1    |  Recall \n",
            " [3/11]  |   0.154  |  0.984  |  0.985  |  0.984  |  0.984\n",
            " [6/11]  |   0.081  |  0.985  |  0.984  |  0.984  |  0.985\n",
            " [9/11]  |   0.148  |  0.969  |  0.969  |  0.969  |  0.969\n",
            "*************** Epoch 15 ***************\n",
            " [Epoch] |   Loss   |   Acc   |   Pre   |   F1    |  Recall \n",
            " [3/11]  |   0.090  |  1.000  |  1.000  |  1.000  |  1.000\n",
            " [6/11]  |   0.051  |  1.000  |  1.000  |  1.000  |  1.000\n",
            " [9/11]  |   0.203  |  0.953  |  0.957  |  0.953  |  0.953\n",
            "*************** Epoch 16 ***************\n",
            " [Epoch] |   Loss   |   Acc   |   Pre   |   F1    |  Recall \n",
            " [3/11]  |   0.038  |  1.000  |  1.000  |  1.000  |  1.000\n",
            " [6/11]  |   0.145  |  0.977  |  0.988  |  0.982  |  0.977\n",
            " [9/11]  |   0.072  |  0.986  |  0.982  |  0.984  |  0.986\n",
            "*************** Epoch 17 ***************\n",
            " [Epoch] |   Loss   |   Acc   |   Pre   |   F1    |  Recall \n",
            " [3/11]  |   0.031  |  0.984  |  0.985  |  0.984  |  0.984\n",
            " [6/11]  |   0.089  |  0.971  |  0.968  |  0.969  |  0.971\n",
            " [9/11]  |   0.032  |  0.985  |  0.984  |  0.984  |  0.985\n",
            "*************** Epoch 18 ***************\n",
            " [Epoch] |   Loss   |   Acc   |   Pre   |   F1    |  Recall \n",
            " [3/11]  |   0.031  |  0.981  |  0.987  |  0.984  |  0.981\n",
            " [6/11]  |   0.016  |  1.000  |  1.000  |  1.000  |  1.000\n",
            " [9/11]  |   0.036  |  0.983  |  0.986  |  0.984  |  0.983\n",
            "*************** Epoch 19 ***************\n",
            " [Epoch] |   Loss   |   Acc   |   Pre   |   F1    |  Recall \n",
            " [3/11]  |   0.047  |  0.969  |  0.969  |  0.969  |  0.969\n",
            " [6/11]  |   0.012  |  1.000  |  1.000  |  1.000  |  1.000\n",
            " [9/11]  |   0.126  |  0.984  |  0.985  |  0.984  |  0.984\n",
            "*************** Epoch 20 ***************\n",
            " [Epoch] |   Loss   |   Acc   |   Pre   |   F1    |  Recall \n",
            " [3/11]  |   0.008  |  1.000  |  1.000  |  1.000  |  1.000\n",
            " [6/11]  |   0.031  |  0.985  |  0.984  |  0.984  |  0.985\n",
            " [9/11]  |   0.034  |  0.984  |  0.985  |  0.984  |  0.984\n",
            "*************** Epoch 21 ***************\n",
            " [Epoch] |   Loss   |   Acc   |   Pre   |   F1    |  Recall \n",
            " [3/11]  |   0.040  |  0.971  |  0.969  |  0.969  |  0.971\n",
            " [6/11]  |   0.035  |  0.972  |  0.967  |  0.968  |  0.972\n",
            " [9/11]  |   0.005  |  1.000  |  1.000  |  1.000  |  1.000\n",
            "*************** Epoch 22 ***************\n",
            " [Epoch] |   Loss   |   Acc   |   Pre   |   F1    |  Recall \n",
            " [3/11]  |   0.006  |  1.000  |  1.000  |  1.000  |  1.000\n",
            " [6/11]  |   0.006  |  1.000  |  1.000  |  1.000  |  1.000\n",
            " [9/11]  |   0.017  |  1.000  |  1.000  |  1.000  |  1.000\n",
            "*************** Epoch 23 ***************\n",
            " [Epoch] |   Loss   |   Acc   |   Pre   |   F1    |  Recall \n",
            " [3/11]  |   0.010  |  1.000  |  1.000  |  1.000  |  1.000\n",
            " [6/11]  |   0.005  |  1.000  |  1.000  |  1.000  |  1.000\n",
            " [9/11]  |   0.032  |  0.969  |  0.969  |  0.969  |  0.969\n",
            "*************** Epoch 24 ***************\n",
            " [Epoch] |   Loss   |   Acc   |   Pre   |   F1    |  Recall \n",
            " [3/11]  |   0.029  |  0.985  |  0.984  |  0.984  |  0.985\n",
            " [6/11]  |   0.005  |  1.000  |  1.000  |  1.000  |  1.000\n",
            " [9/11]  |   0.055  |  0.954  |  0.949  |  0.952  |  0.954\n",
            "*************** Epoch 25 ***************\n",
            " [Epoch] |   Loss   |   Acc   |   Pre   |   F1    |  Recall \n",
            " [3/11]  |   0.004  |  1.000  |  1.000  |  1.000  |  1.000\n",
            " [6/11]  |   0.004  |  1.000  |  1.000  |  1.000  |  1.000\n",
            " [9/11]  |   0.072  |  0.953  |  0.954  |  0.953  |  0.953\n",
            "*************** Epoch 26 ***************\n",
            " [Epoch] |   Loss   |   Acc   |   Pre   |   F1    |  Recall \n",
            " [3/11]  |   0.025  |  0.984  |  0.985  |  0.984  |  0.984\n",
            " [6/11]  |   0.003  |  1.000  |  1.000  |  1.000  |  1.000\n",
            " [9/11]  |   0.107  |  0.970  |  0.970  |  0.969  |  0.970\n",
            "*************** Epoch 27 ***************\n",
            " [Epoch] |   Loss   |   Acc   |   Pre   |   F1    |  Recall \n",
            " [3/11]  |   0.111  |  0.969  |  0.969  |  0.969  |  0.969\n",
            " [6/11]  |   0.027  |  0.968  |  0.968  |  0.968  |  0.968\n",
            " [9/11]  |   0.064  |  0.969  |  0.969  |  0.969  |  0.969\n",
            "*************** Epoch 28 ***************\n",
            " [Epoch] |   Loss   |   Acc   |   Pre   |   F1    |  Recall \n",
            " [3/11]  |   0.010  |  1.000  |  1.000  |  1.000  |  1.000\n",
            " [6/11]  |   0.080  |  0.984  |  0.985  |  0.984  |  0.984\n",
            " [9/11]  |   0.028  |  0.968  |  0.971  |  0.969  |  0.968\n",
            "*************** Epoch 29 ***************\n",
            " [Epoch] |   Loss   |   Acc   |   Pre   |   F1    |  Recall \n",
            " [3/11]  |   0.036  |  0.968  |  0.968  |  0.968  |  0.968\n",
            " [6/11]  |   0.004  |  1.000  |  1.000  |  1.000  |  1.000\n",
            " [9/11]  |   0.013  |  1.000  |  1.000  |  1.000  |  1.000\n",
            "*************** Epoch 30 ***************\n",
            " [Epoch] |   Loss   |   Acc   |   Pre   |   F1    |  Recall \n",
            " [3/11]  |   0.010  |  1.000  |  1.000  |  1.000  |  1.000\n",
            " [6/11]  |   0.036  |  0.986  |  0.983  |  0.984  |  0.986\n",
            " [9/11]  |   0.017  |  1.000  |  1.000  |  1.000  |  1.000\n",
            "*************** Epoch 31 ***************\n",
            " [Epoch] |   Loss   |   Acc   |   Pre   |   F1    |  Recall \n",
            " [3/11]  |   0.006  |  1.000  |  1.000  |  1.000  |  1.000\n",
            " [6/11]  |   0.037  |  0.985  |  0.984  |  0.984  |  0.985\n",
            " [9/11]  |   0.107  |  0.964  |  0.974  |  0.968  |  0.964\n",
            "*************** Epoch 32 ***************\n",
            " [Epoch] |   Loss   |   Acc   |   Pre   |   F1    |  Recall \n",
            " [3/11]  |   0.053  |  0.986  |  0.983  |  0.984  |  0.986\n",
            " [6/11]  |   0.006  |  1.000  |  1.000  |  1.000  |  1.000\n",
            " [9/11]  |   0.032  |  0.984  |  0.985  |  0.984  |  0.984\n",
            "*************** Epoch 33 ***************\n",
            " [Epoch] |   Loss   |   Acc   |   Pre   |   F1    |  Recall \n",
            " [3/11]  |   0.028  |  0.981  |  0.987  |  0.984  |  0.981\n",
            " [6/11]  |   0.017  |  0.987  |  0.981  |  0.984  |  0.987\n",
            " [9/11]  |   0.021  |  1.000  |  1.000  |  1.000  |  1.000\n",
            "*************** Epoch 34 ***************\n",
            " [Epoch] |   Loss   |   Acc   |   Pre   |   F1    |  Recall \n",
            " [3/11]  |   0.026  |  0.983  |  0.986  |  0.984  |  0.983\n",
            " [6/11]  |   0.072  |  0.969  |  0.969  |  0.969  |  0.969\n",
            " [9/11]  |   0.003  |  1.000  |  1.000  |  1.000  |  1.000\n",
            "*************** Epoch 35 ***************\n",
            " [Epoch] |   Loss   |   Acc   |   Pre   |   F1    |  Recall \n",
            " [3/11]  |   0.015  |  0.985  |  0.984  |  0.984  |  0.985\n",
            " [6/11]  |   0.011  |  1.000  |  1.000  |  1.000  |  1.000\n",
            " [9/11]  |   0.012  |  1.000  |  1.000  |  1.000  |  1.000\n",
            "*************** Epoch 36 ***************\n",
            " [Epoch] |   Loss   |   Acc   |   Pre   |   F1    |  Recall \n",
            " [3/11]  |   0.012  |  1.000  |  1.000  |  1.000  |  1.000\n",
            " [6/11]  |   0.002  |  1.000  |  1.000  |  1.000  |  1.000\n",
            " [9/11]  |   0.027  |  0.987  |  0.981  |  0.984  |  0.987\n",
            "*************** Epoch 37 ***************\n",
            " [Epoch] |   Loss   |   Acc   |   Pre   |   F1    |  Recall \n",
            " [3/11]  |   0.062  |  0.952  |  0.958  |  0.953  |  0.952\n",
            " [6/11]  |   0.030  |  0.980  |  0.988  |  0.983  |  0.980\n",
            " [9/11]  |   0.002  |  1.000  |  1.000  |  1.000  |  1.000\n",
            "*************** Epoch 38 ***************\n",
            " [Epoch] |   Loss   |   Acc   |   Pre   |   F1    |  Recall \n",
            " [3/11]  |   0.014  |  0.980  |  0.988  |  0.983  |  0.980\n",
            " [6/11]  |   0.021  |  0.987  |  0.981  |  0.984  |  0.987\n",
            " [9/11]  |   0.042  |  0.973  |  0.966  |  0.968  |  0.973\n",
            "*************** Epoch 39 ***************\n",
            " [Epoch] |   Loss   |   Acc   |   Pre   |   F1    |  Recall \n",
            " [3/11]  |   0.006  |  1.000  |  1.000  |  1.000  |  1.000\n",
            " [6/11]  |   0.006  |  1.000  |  1.000  |  1.000  |  1.000\n",
            " [9/11]  |   0.037  |  0.964  |  0.974  |  0.968  |  0.964\n",
            "*************** Epoch 40 ***************\n",
            " [Epoch] |   Loss   |   Acc   |   Pre   |   F1    |  Recall \n",
            " [3/11]  |   0.013  |  0.986  |  0.983  |  0.984  |  0.986\n",
            " [6/11]  |   0.013  |  0.984  |  0.985  |  0.984  |  0.984\n",
            " [9/11]  |   0.029  |  0.985  |  0.984  |  0.984  |  0.985\n",
            "*************** Epoch 41 ***************\n",
            " [Epoch] |   Loss   |   Acc   |   Pre   |   F1    |  Recall \n",
            " [3/11]  |   0.043  |  0.966  |  0.973  |  0.968  |  0.966\n",
            " [6/11]  |   0.051  |  0.968  |  0.968  |  0.968  |  0.968\n",
            " [9/11]  |   0.021  |  1.000  |  1.000  |  1.000  |  1.000\n",
            "*************** Epoch 42 ***************\n",
            " [Epoch] |   Loss   |   Acc   |   Pre   |   F1    |  Recall \n",
            " [3/11]  |   0.001  |  1.000  |  1.000  |  1.000  |  1.000\n",
            " [6/11]  |   0.049  |  0.954  |  0.953  |  0.953  |  0.954\n",
            " [9/11]  |   0.023  |  0.986  |  0.983  |  0.984  |  0.986\n",
            "*************** Epoch 43 ***************\n",
            " [Epoch] |   Loss   |   Acc   |   Pre   |   F1    |  Recall \n",
            " [3/11]  |   0.034  |  0.986  |  0.983  |  0.984  |  0.986\n",
            " [6/11]  |   0.029  |  0.969  |  0.969  |  0.969  |  0.969\n",
            " [9/11]  |   0.022  |  0.986  |  0.983  |  0.984  |  0.986\n",
            "*************** Epoch 44 ***************\n",
            " [Epoch] |   Loss   |   Acc   |   Pre   |   F1    |  Recall \n",
            " [3/11]  |   0.012  |  0.983  |  0.986  |  0.984  |  0.983\n",
            " [6/11]  |   0.024  |  0.981  |  0.987  |  0.984  |  0.981\n",
            " [9/11]  |   0.001  |  1.000  |  1.000  |  1.000  |  1.000\n",
            "*************** Epoch 45 ***************\n",
            " [Epoch] |   Loss   |   Acc   |   Pre   |   F1    |  Recall \n",
            " [3/11]  |   0.053  |  0.984  |  0.985  |  0.984  |  0.984\n",
            " [6/11]  |   0.035  |  0.970  |  0.970  |  0.969  |  0.970\n",
            " [9/11]  |   0.023  |  1.000  |  1.000  |  1.000  |  1.000\n",
            "*************** Epoch 46 ***************\n",
            " [Epoch] |   Loss   |   Acc   |   Pre   |   F1    |  Recall \n",
            " [3/11]  |   0.014  |  0.984  |  0.985  |  0.984  |  0.984\n",
            " [6/11]  |   0.016  |  1.000  |  1.000  |  1.000  |  1.000\n",
            " [9/11]  |   0.011  |  1.000  |  1.000  |  1.000  |  1.000\n",
            "*************** Epoch 47 ***************\n",
            " [Epoch] |   Loss   |   Acc   |   Pre   |   F1    |  Recall \n",
            " [3/11]  |   0.001  |  1.000  |  1.000  |  1.000  |  1.000\n",
            " [6/11]  |   0.027  |  0.984  |  0.985  |  0.984  |  0.984\n",
            " [9/11]  |   0.031  |  0.967  |  0.967  |  0.967  |  0.967\n",
            "*************** Epoch 48 ***************\n",
            " [Epoch] |   Loss   |   Acc   |   Pre   |   F1    |  Recall \n",
            " [3/11]  |   0.011  |  1.000  |  1.000  |  1.000  |  1.000\n",
            " [6/11]  |   0.023  |  0.984  |  0.985  |  0.984  |  0.984\n",
            " [9/11]  |   0.047  |  0.968  |  0.968  |  0.968  |  0.968\n",
            "*************** Epoch 49 ***************\n",
            " [Epoch] |   Loss   |   Acc   |   Pre   |   F1    |  Recall \n",
            " [3/11]  |   0.023  |  0.987  |  0.981  |  0.984  |  0.987\n",
            " [6/11]  |   0.034  |  0.966  |  0.966  |  0.966  |  0.966\n",
            " [9/11]  |   0.021  |  1.000  |  1.000  |  1.000  |  1.000\n",
            "*************** Epoch 50 ***************\n",
            " [Epoch] |   Loss   |   Acc   |   Pre   |   F1    |  Recall \n",
            " [3/11]  |   0.013  |  0.982  |  0.986  |  0.984  |  0.982\n",
            " [6/11]  |   0.016  |  1.000  |  1.000  |  1.000  |  1.000\n",
            " [9/11]  |   0.036  |  0.971  |  0.968  |  0.969  |  0.971\n"
          ]
        }
      ]
    },
    {
      "cell_type": "code",
      "source": [
        "plt.plot(f1_list)\n",
        "plt.plot(prec_list)\n",
        "plt.plot(acc_list)\n",
        "plt.plot(rec_list)\n",
        "plt.legend((\"F1\", \"Precision\", \"Accuracy\", \"Recall\"))\n",
        "plt.show()"
      ],
      "metadata": {
        "colab": {
          "base_uri": "https://localhost:8080/",
          "height": 265
        },
        "id": "etXA5DSqZC7a",
        "outputId": "d195d90b-1bc2-4cf2-c498-78ea88413b8c"
      },
      "execution_count": 30,
      "outputs": [
        {
          "output_type": "display_data",
          "data": {
            "text/plain": [
              "<Figure size 432x288 with 1 Axes>"
            ],
            "image/png": "[encoded data removed]"
          },
          "metadata": {
            "needs_background": "light"
          }
        }
      ]
    },
    {
      "cell_type": "markdown",
      "source": [
        "#### 2. RNN model"
      ],
      "metadata": {
        "id": "YoJNXwEnYynF"
      }
    },
    {
      "cell_type": "code",
      "source": [
        "model_rnn = Hybrid()\n",
        "model_rnn.to(device)\n",
        "criterion = torch.nn.CrossEntropyLoss()\n",
        "optimizer = torch.optim.Adam(model_rnn.parameters(),\n",
        "                                lr=0.01)\n",
        "\n",
        "train_dataloader = DataLoader(train_dataset,\n",
        "                              batch_size = 64, shuffle=True)"
      ],
      "metadata": {
        "id": "J8mrdMHWY71p"
      },
      "execution_count": 32,
      "outputs": []
    },
    {
      "cell_type": "code",
      "source": [
        "# learning loop\n",
        "f1_list = []\n",
        "prec_list = []\n",
        "acc_list = []\n",
        "rec_list = []\n",
        "\n",
        "EPOCHS = 50\n",
        "\n",
        "n_total = len(train_dataloader)\n",
        "for epoch in range(1, EPOCHS+1):\n",
        "  targets = []\n",
        "  print(f\"*************** Epoch {epoch} ***************\")\n",
        "  print(\" [Epoch] |   Loss   |   Acc   |   Pre   |   F1    |  Recall \")\n",
        "  for i, (inputs, target) in enumerate(train_dataloader):\n",
        "    \n",
        "    inputs = inputs.to(device)\n",
        "    target = target.to(device)\n",
        "\n",
        "    predicted = model_rnn(inputs)\n",
        "    \n",
        "    optimizer.zero_grad()\n",
        "    loss = criterion(predicted, target)\n",
        "    loss.backward()\n",
        "    optimizer.step()\n",
        "\n",
        "    \n",
        "    if (i+1) % 3 == 0:\n",
        "      with torch.no_grad():\n",
        "        ac = multiclass_accuracy(predicted, target, num_classes=2).item()\n",
        "        pr = multiclass_precision(predicted, target, num_classes=2).item()\n",
        "        f1 = multiclass_f1_score(predicted, target, num_classes=2).item()\n",
        "        re = multiclass_recall(predicted, target, num_classes=2).item()\n",
        "        f1_list.append(f1)\n",
        "        prec_list.append(pr)\n",
        "        acc_list.append(ac)\n",
        "        rec_list.append(re)\n",
        "        print(f\" [{i+1}/{n_total}]  |   {loss.item():.3f}  |  {ac:.3f}  |  {pr:.3f}  |  {f1:.3f}  |  {re:.3f}\")\n"
      ],
      "metadata": {
        "colab": {
          "base_uri": "https://localhost:8080/"
        },
        "id": "-aCsRbFBZGLF",
        "outputId": "05665707-07c8-41c7-d97c-35354d2f9eb7"
      },
      "execution_count": 33,
      "outputs": [
        {
          "output_type": "stream",
          "name": "stdout",
          "text": [
            "*************** Epoch 1 ***************\n",
            " [Epoch] |   Loss   |   Acc   |   Pre   |   F1    |  Recall \n",
            " [3/11]  |   4.745  |  0.500  |  0.188  |  0.273  |  0.500\n",
            " [6/11]  |   0.727  |  0.456  |  0.419  |  0.401  |  0.456\n",
            " [9/11]  |   0.705  |  0.500  |  0.500  |  0.433  |  0.500\n",
            "*************** Epoch 2 ***************\n",
            " [Epoch] |   Loss   |   Acc   |   Pre   |   F1    |  Recall \n",
            " [3/11]  |   0.688  |  0.509  |  0.518  |  0.478  |  0.509\n",
            " [6/11]  |   0.698  |  0.536  |  0.536  |  0.531  |  0.536\n",
            " [9/11]  |   0.694  |  0.484  |  0.238  |  0.319  |  0.484\n",
            "*************** Epoch 3 ***************\n",
            " [Epoch] |   Loss   |   Acc   |   Pre   |   F1    |  Recall \n",
            " [3/11]  |   0.687  |  0.500  |  0.242  |  0.326  |  0.500\n",
            " [6/11]  |   0.694  |  0.500  |  0.219  |  0.304  |  0.500\n",
            " [9/11]  |   0.696  |  0.500  |  0.203  |  0.289  |  0.500\n",
            "*************** Epoch 4 ***************\n",
            " [Epoch] |   Loss   |   Acc   |   Pre   |   F1    |  Recall \n",
            " [3/11]  |   0.694  |  0.500  |  0.234  |  0.319  |  0.500\n",
            " [6/11]  |   0.692  |  0.500  |  0.289  |  0.366  |  0.500\n",
            " [9/11]  |   0.693  |  0.500  |  0.281  |  0.360  |  0.500\n",
            "*************** Epoch 5 ***************\n",
            " [Epoch] |   Loss   |   Acc   |   Pre   |   F1    |  Recall \n",
            " [3/11]  |   0.689  |  0.500  |  0.242  |  0.326  |  0.500\n",
            " [6/11]  |   0.692  |  0.500  |  0.250  |  0.333  |  0.500\n",
            " [9/11]  |   0.698  |  0.500  |  0.203  |  0.289  |  0.500\n",
            "*************** Epoch 6 ***************\n",
            " [Epoch] |   Loss   |   Acc   |   Pre   |   F1    |  Recall \n",
            " [3/11]  |   0.701  |  0.500  |  0.234  |  0.319  |  0.500\n",
            " [6/11]  |   0.689  |  0.500  |  0.266  |  0.347  |  0.500\n",
            " [9/11]  |   0.695  |  0.500  |  0.250  |  0.333  |  0.500\n",
            "*************** Epoch 7 ***************\n",
            " [Epoch] |   Loss   |   Acc   |   Pre   |   F1    |  Recall \n",
            " [3/11]  |   0.683  |  0.534  |  0.782  |  0.425  |  0.534\n",
            " [6/11]  |   0.684  |  0.567  |  0.783  |  0.479  |  0.567\n",
            " [9/11]  |   0.689  |  0.531  |  0.531  |  0.531  |  0.531\n",
            "*************** Epoch 8 ***************\n",
            " [Epoch] |   Loss   |   Acc   |   Pre   |   F1    |  Recall \n",
            " [3/11]  |   0.690  |  0.530  |  0.531  |  0.515  |  0.530\n",
            " [6/11]  |   0.688  |  0.611  |  0.613  |  0.611  |  0.611\n",
            " [9/11]  |   0.685  |  0.521  |  0.530  |  0.492  |  0.521\n",
            "*************** Epoch 9 ***************\n",
            " [Epoch] |   Loss   |   Acc   |   Pre   |   F1    |  Recall \n",
            " [3/11]  |   0.674  |  0.537  |  0.798  |  0.443  |  0.537\n",
            " [6/11]  |   0.669  |  0.517  |  0.778  |  0.390  |  0.517\n",
            " [9/11]  |   0.668  |  0.821  |  0.847  |  0.823  |  0.821\n",
            "*************** Epoch 10 ***************\n",
            " [Epoch] |   Loss   |   Acc   |   Pre   |   F1    |  Recall \n",
            " [3/11]  |   0.656  |  0.652  |  0.787  |  0.597  |  0.652\n",
            " [6/11]  |   0.654  |  0.660  |  0.746  |  0.613  |  0.660\n",
            " [9/11]  |   0.629  |  0.825  |  0.831  |  0.826  |  0.825\n",
            "*************** Epoch 11 ***************\n",
            " [Epoch] |   Loss   |   Acc   |   Pre   |   F1    |  Recall \n",
            " [3/11]  |   0.587  |  0.734  |  0.827  |  0.714  |  0.734\n",
            " [6/11]  |   0.596  |  0.858  |  0.863  |  0.859  |  0.858\n",
            " [9/11]  |   0.561  |  0.814  |  0.812  |  0.812  |  0.814\n",
            "*************** Epoch 12 ***************\n",
            " [Epoch] |   Loss   |   Acc   |   Pre   |   F1    |  Recall \n",
            " [3/11]  |   0.498  |  0.914  |  0.914  |  0.906  |  0.914\n",
            " [6/11]  |   0.428  |  0.929  |  0.950  |  0.935  |  0.929\n",
            " [9/11]  |   0.379  |  0.983  |  0.986  |  0.984  |  0.983\n",
            "*************** Epoch 13 ***************\n",
            " [Epoch] |   Loss   |   Acc   |   Pre   |   F1    |  Recall \n",
            " [3/11]  |   0.367  |  0.941  |  0.933  |  0.936  |  0.941\n",
            " [6/11]  |   0.285  |  0.952  |  0.958  |  0.953  |  0.952\n",
            " [9/11]  |   0.292  |  0.954  |  0.948  |  0.951  |  0.954\n",
            "*************** Epoch 14 ***************\n",
            " [Epoch] |   Loss   |   Acc   |   Pre   |   F1    |  Recall \n",
            " [3/11]  |   0.185  |  0.953  |  0.954  |  0.953  |  0.953\n",
            " [6/11]  |   0.229  |  0.948  |  0.961  |  0.952  |  0.948\n",
            " [9/11]  |   0.263  |  0.921  |  0.923  |  0.921  |  0.921\n",
            "*************** Epoch 15 ***************\n",
            " [Epoch] |   Loss   |   Acc   |   Pre   |   F1    |  Recall \n",
            " [3/11]  |   0.057  |  1.000  |  1.000  |  1.000  |  1.000\n",
            " [6/11]  |   0.113  |  0.966  |  0.973  |  0.968  |  0.966\n",
            " [9/11]  |   0.130  |  0.969  |  0.969  |  0.969  |  0.969\n",
            "*************** Epoch 16 ***************\n",
            " [Epoch] |   Loss   |   Acc   |   Pre   |   F1    |  Recall \n",
            " [3/11]  |   0.137  |  0.953  |  0.957  |  0.953  |  0.953\n",
            " [6/11]  |   0.082  |  0.963  |  0.974  |  0.968  |  0.963\n",
            " [9/11]  |   0.077  |  0.986  |  0.983  |  0.984  |  0.986\n",
            "*************** Epoch 17 ***************\n",
            " [Epoch] |   Loss   |   Acc   |   Pre   |   F1    |  Recall \n",
            " [3/11]  |   0.077  |  0.968  |  0.971  |  0.969  |  0.968\n",
            " [6/11]  |   0.127  |  0.951  |  0.954  |  0.953  |  0.951\n",
            " [9/11]  |   0.055  |  0.986  |  0.983  |  0.984  |  0.986\n",
            "*************** Epoch 18 ***************\n",
            " [Epoch] |   Loss   |   Acc   |   Pre   |   F1    |  Recall \n",
            " [3/11]  |   0.044  |  0.986  |  0.983  |  0.984  |  0.986\n",
            " [6/11]  |   0.040  |  1.000  |  1.000  |  1.000  |  1.000\n",
            " [9/11]  |   0.047  |  0.986  |  0.983  |  0.984  |  0.986\n",
            "*************** Epoch 19 ***************\n",
            " [Epoch] |   Loss   |   Acc   |   Pre   |   F1    |  Recall \n",
            " [3/11]  |   0.013  |  1.000  |  1.000  |  1.000  |  1.000\n",
            " [6/11]  |   0.040  |  0.984  |  0.985  |  0.984  |  0.984\n",
            " [9/11]  |   0.019  |  0.985  |  0.984  |  0.984  |  0.985\n",
            "*************** Epoch 20 ***************\n",
            " [Epoch] |   Loss   |   Acc   |   Pre   |   F1    |  Recall \n",
            " [3/11]  |   0.031  |  0.983  |  0.986  |  0.984  |  0.983\n",
            " [6/11]  |   0.024  |  0.982  |  0.986  |  0.984  |  0.982\n",
            " [9/11]  |   0.059  |  0.974  |  0.964  |  0.968  |  0.974\n",
            "*************** Epoch 21 ***************\n",
            " [Epoch] |   Loss   |   Acc   |   Pre   |   F1    |  Recall \n",
            " [3/11]  |   0.003  |  1.000  |  1.000  |  1.000  |  1.000\n",
            " [6/11]  |   0.019  |  1.000  |  1.000  |  1.000  |  1.000\n",
            " [9/11]  |   0.024  |  0.981  |  0.987  |  0.984  |  0.981\n",
            "*************** Epoch 22 ***************\n",
            " [Epoch] |   Loss   |   Acc   |   Pre   |   F1    |  Recall \n",
            " [3/11]  |   0.019  |  0.983  |  0.986  |  0.984  |  0.983\n",
            " [6/11]  |   0.030  |  0.981  |  0.987  |  0.984  |  0.981\n",
            " [9/11]  |   0.003  |  1.000  |  1.000  |  1.000  |  1.000\n",
            "*************** Epoch 23 ***************\n",
            " [Epoch] |   Loss   |   Acc   |   Pre   |   F1    |  Recall \n",
            " [3/11]  |   0.040  |  0.968  |  0.971  |  0.969  |  0.968\n",
            " [6/11]  |   0.030  |  0.985  |  0.984  |  0.984  |  0.985\n",
            " [9/11]  |   0.013  |  1.000  |  1.000  |  1.000  |  1.000\n",
            "*************** Epoch 24 ***************\n",
            " [Epoch] |   Loss   |   Acc   |   Pre   |   F1    |  Recall \n",
            " [3/11]  |   0.023  |  0.983  |  0.986  |  0.984  |  0.983\n",
            " [6/11]  |   0.027  |  0.984  |  0.985  |  0.984  |  0.984\n",
            " [9/11]  |   0.002  |  1.000  |  1.000  |  1.000  |  1.000\n",
            "*************** Epoch 25 ***************\n",
            " [Epoch] |   Loss   |   Acc   |   Pre   |   F1    |  Recall \n",
            " [3/11]  |   0.022  |  0.984  |  0.985  |  0.984  |  0.984\n",
            " [6/11]  |   0.025  |  0.986  |  0.983  |  0.984  |  0.986\n",
            " [9/11]  |   0.037  |  0.981  |  0.987  |  0.984  |  0.981\n",
            "*************** Epoch 26 ***************\n",
            " [Epoch] |   Loss   |   Acc   |   Pre   |   F1    |  Recall \n",
            " [3/11]  |   0.037  |  0.968  |  0.968  |  0.968  |  0.968\n",
            " [6/11]  |   0.015  |  0.984  |  0.985  |  0.984  |  0.984\n",
            " [9/11]  |   0.015  |  1.000  |  1.000  |  1.000  |  1.000\n",
            "*************** Epoch 27 ***************\n",
            " [Epoch] |   Loss   |   Acc   |   Pre   |   F1    |  Recall \n",
            " [3/11]  |   0.039  |  0.970  |  0.970  |  0.969  |  0.970\n",
            " [6/11]  |   0.024  |  0.984  |  0.985  |  0.984  |  0.984\n",
            " [9/11]  |   0.039  |  0.970  |  0.970  |  0.969  |  0.970\n",
            "*************** Epoch 28 ***************\n",
            " [Epoch] |   Loss   |   Acc   |   Pre   |   F1    |  Recall \n",
            " [3/11]  |   0.030  |  0.980  |  0.988  |  0.983  |  0.980\n",
            " [6/11]  |   0.010  |  1.000  |  1.000  |  1.000  |  1.000\n",
            " [9/11]  |   0.027  |  0.986  |  0.983  |  0.984  |  0.986\n",
            "*************** Epoch 29 ***************\n",
            " [Epoch] |   Loss   |   Acc   |   Pre   |   F1    |  Recall \n",
            " [3/11]  |   0.032  |  0.971  |  0.969  |  0.969  |  0.971\n",
            " [6/11]  |   0.013  |  1.000  |  1.000  |  1.000  |  1.000\n",
            " [9/11]  |   0.025  |  0.986  |  0.982  |  0.984  |  0.986\n",
            "*************** Epoch 30 ***************\n",
            " [Epoch] |   Loss   |   Acc   |   Pre   |   F1    |  Recall \n",
            " [3/11]  |   0.020  |  1.000  |  1.000  |  1.000  |  1.000\n",
            " [6/11]  |   0.042  |  0.969  |  0.969  |  0.969  |  0.969\n",
            " [9/11]  |   0.021  |  0.985  |  0.984  |  0.984  |  0.985\n",
            "*************** Epoch 31 ***************\n",
            " [Epoch] |   Loss   |   Acc   |   Pre   |   F1    |  Recall \n",
            " [3/11]  |   0.001  |  1.000  |  1.000  |  1.000  |  1.000\n",
            " [6/11]  |   0.066  |  0.954  |  0.949  |  0.952  |  0.954\n",
            " [9/11]  |   0.014  |  1.000  |  1.000  |  1.000  |  1.000\n",
            "*************** Epoch 32 ***************\n",
            " [Epoch] |   Loss   |   Acc   |   Pre   |   F1    |  Recall \n",
            " [3/11]  |   0.053  |  0.967  |  0.967  |  0.967  |  0.967\n",
            " [6/11]  |   0.007  |  1.000  |  1.000  |  1.000  |  1.000\n",
            " [9/11]  |   0.028  |  0.986  |  0.983  |  0.984  |  0.986\n",
            "*************** Epoch 33 ***************\n",
            " [Epoch] |   Loss   |   Acc   |   Pre   |   F1    |  Recall \n",
            " [3/11]  |   0.018  |  1.000  |  1.000  |  1.000  |  1.000\n",
            " [6/11]  |   0.038  |  0.971  |  0.968  |  0.969  |  0.971\n",
            " [9/11]  |   0.044  |  0.983  |  0.986  |  0.984  |  0.983\n",
            "*************** Epoch 34 ***************\n",
            " [Epoch] |   Loss   |   Acc   |   Pre   |   F1    |  Recall \n",
            " [3/11]  |   0.039  |  0.984  |  0.985  |  0.984  |  0.984\n",
            " [6/11]  |   0.018  |  0.986  |  0.982  |  0.984  |  0.986\n",
            " [9/11]  |   0.017  |  0.986  |  0.983  |  0.984  |  0.986\n",
            "*************** Epoch 35 ***************\n",
            " [Epoch] |   Loss   |   Acc   |   Pre   |   F1    |  Recall \n",
            " [3/11]  |   0.032  |  0.985  |  0.984  |  0.984  |  0.985\n",
            " [6/11]  |   0.031  |  0.985  |  0.984  |  0.984  |  0.985\n",
            " [9/11]  |   0.001  |  1.000  |  1.000  |  1.000  |  1.000\n",
            "*************** Epoch 36 ***************\n",
            " [Epoch] |   Loss   |   Acc   |   Pre   |   F1    |  Recall \n",
            " [3/11]  |   0.033  |  0.969  |  0.969  |  0.969  |  0.969\n",
            " [6/11]  |   0.105  |  0.923  |  0.921  |  0.922  |  0.923\n",
            " [9/11]  |   0.001  |  1.000  |  1.000  |  1.000  |  1.000\n",
            "*************** Epoch 37 ***************\n",
            " [Epoch] |   Loss   |   Acc   |   Pre   |   F1    |  Recall \n",
            " [3/11]  |   0.002  |  1.000  |  1.000  |  1.000  |  1.000\n",
            " [6/11]  |   0.019  |  0.984  |  0.985  |  0.984  |  0.984\n",
            " [9/11]  |   0.019  |  0.982  |  0.986  |  0.984  |  0.982\n",
            "*************** Epoch 38 ***************\n",
            " [Epoch] |   Loss   |   Acc   |   Pre   |   F1    |  Recall \n",
            " [3/11]  |   0.027  |  0.970  |  0.970  |  0.969  |  0.970\n",
            " [6/11]  |   0.035  |  0.971  |  0.968  |  0.969  |  0.971\n",
            " [9/11]  |   0.052  |  0.967  |  0.972  |  0.968  |  0.967\n",
            "*************** Epoch 39 ***************\n",
            " [Epoch] |   Loss   |   Acc   |   Pre   |   F1    |  Recall \n",
            " [3/11]  |   0.014  |  0.986  |  0.982  |  0.984  |  0.986\n",
            " [6/11]  |   0.067  |  0.969  |  0.969  |  0.969  |  0.969\n",
            " [9/11]  |   0.018  |  1.000  |  1.000  |  1.000  |  1.000\n",
            "*************** Epoch 40 ***************\n",
            " [Epoch] |   Loss   |   Acc   |   Pre   |   F1    |  Recall \n",
            " [3/11]  |   0.012  |  0.984  |  0.985  |  0.984  |  0.984\n",
            " [6/11]  |   0.033  |  0.987  |  0.981  |  0.984  |  0.987\n",
            " [9/11]  |   0.049  |  0.961  |  0.948  |  0.952  |  0.961\n",
            "*************** Epoch 41 ***************\n",
            " [Epoch] |   Loss   |   Acc   |   Pre   |   F1    |  Recall \n",
            " [3/11]  |   0.012  |  0.984  |  0.985  |  0.984  |  0.984\n",
            " [6/11]  |   0.015  |  0.984  |  0.985  |  0.984  |  0.984\n",
            " [9/11]  |   0.001  |  1.000  |  1.000  |  1.000  |  1.000\n",
            "*************** Epoch 42 ***************\n",
            " [Epoch] |   Loss   |   Acc   |   Pre   |   F1    |  Recall \n",
            " [3/11]  |   0.014  |  1.000  |  1.000  |  1.000  |  1.000\n",
            " [6/11]  |   0.015  |  0.981  |  0.987  |  0.984  |  0.981\n",
            " [9/11]  |   0.025  |  0.986  |  0.983  |  0.984  |  0.986\n",
            "*************** Epoch 43 ***************\n",
            " [Epoch] |   Loss   |   Acc   |   Pre   |   F1    |  Recall \n",
            " [3/11]  |   0.007  |  1.000  |  1.000  |  1.000  |  1.000\n",
            " [6/11]  |   0.002  |  1.000  |  1.000  |  1.000  |  1.000\n",
            " [9/11]  |   0.047  |  0.971  |  0.969  |  0.969  |  0.971\n",
            "*************** Epoch 44 ***************\n",
            " [Epoch] |   Loss   |   Acc   |   Pre   |   F1    |  Recall \n",
            " [3/11]  |   0.062  |  0.986  |  0.983  |  0.984  |  0.986\n",
            " [6/11]  |   0.008  |  1.000  |  1.000  |  1.000  |  1.000\n",
            " [9/11]  |   0.010  |  1.000  |  1.000  |  1.000  |  1.000\n",
            "*************** Epoch 45 ***************\n",
            " [Epoch] |   Loss   |   Acc   |   Pre   |   F1    |  Recall \n",
            " [3/11]  |   0.001  |  1.000  |  1.000  |  1.000  |  1.000\n",
            " [6/11]  |   0.049  |  0.968  |  0.968  |  0.968  |  0.968\n",
            " [9/11]  |   0.054  |  0.983  |  0.986  |  0.984  |  0.983\n",
            "*************** Epoch 46 ***************\n",
            " [Epoch] |   Loss   |   Acc   |   Pre   |   F1    |  Recall \n",
            " [3/11]  |   0.032  |  0.983  |  0.986  |  0.984  |  0.983\n",
            " [6/11]  |   0.055  |  0.953  |  0.954  |  0.953  |  0.953\n",
            " [9/11]  |   0.023  |  0.985  |  0.984  |  0.984  |  0.985\n",
            "*************** Epoch 47 ***************\n",
            " [Epoch] |   Loss   |   Acc   |   Pre   |   F1    |  Recall \n",
            " [3/11]  |   0.001  |  1.000  |  1.000  |  1.000  |  1.000\n",
            " [6/11]  |   0.037  |  0.969  |  0.969  |  0.969  |  0.969\n",
            " [9/11]  |   0.034  |  0.988  |  0.980  |  0.983  |  0.988\n",
            "*************** Epoch 48 ***************\n",
            " [Epoch] |   Loss   |   Acc   |   Pre   |   F1    |  Recall \n",
            " [3/11]  |   0.020  |  0.987  |  0.981  |  0.984  |  0.987\n",
            " [6/11]  |   0.047  |  0.984  |  0.985  |  0.984  |  0.984\n",
            " [9/11]  |   0.001  |  1.000  |  1.000  |  1.000  |  1.000\n",
            "*************** Epoch 49 ***************\n",
            " [Epoch] |   Loss   |   Acc   |   Pre   |   F1    |  Recall \n",
            " [3/11]  |   0.021  |  0.983  |  0.986  |  0.984  |  0.983\n",
            " [6/11]  |   0.018  |  0.985  |  0.984  |  0.984  |  0.985\n",
            " [9/11]  |   0.019  |  0.988  |  0.980  |  0.983  |  0.988\n",
            "*************** Epoch 50 ***************\n",
            " [Epoch] |   Loss   |   Acc   |   Pre   |   F1    |  Recall \n",
            " [3/11]  |   0.012  |  0.981  |  0.987  |  0.984  |  0.981\n",
            " [6/11]  |   0.027  |  0.968  |  0.968  |  0.968  |  0.968\n",
            " [9/11]  |   0.039  |  0.968  |  0.968  |  0.968  |  0.968\n"
          ]
        }
      ]
    },
    {
      "cell_type": "code",
      "source": [
        "plt.plot(f1_list)\n",
        "plt.plot(prec_list)\n",
        "plt.plot(acc_list)\n",
        "plt.plot(rec_list)\n",
        "plt.legend((\"F1\", \"Precision\", \"Accuracy\", \"Recall\"))\n",
        "plt.show()"
      ],
      "metadata": {
        "colab": {
          "base_uri": "https://localhost:8080/",
          "height": 265
        },
        "id": "fs43BFJQbP1Q",
        "outputId": "2aae4a27-275c-4585-ba13-9ac07aba0f54"
      },
      "execution_count": 35,
      "outputs": [
        {
          "output_type": "display_data",
          "data": {
            "text/plain": [
              "<Figure size 432x288 with 1 Axes>"
            ],
            "image/png": "[encoded data removed]"
          },
          "metadata": {
            "needs_background": "light"
          }
        }
      ]
    },
    {
      "cell_type": "markdown",
      "source": [
        "### 4. Testing\n",
        "As we can see in the paper no one of this models has accuracies higher than 60 and the result we got here is very close to the paper"
      ],
      "metadata": {
        "id": "rzq5I4qhN-4b"
      }
    },
    {
      "cell_type": "markdown",
      "source": [
        "Test Hybrid CNN-RNN model"
      ],
      "metadata": {
        "id": "KxiSj98ibUig"
      }
    },
    {
      "cell_type": "code",
      "source": [
        "with torch.no_grad():\n",
        "  preds = model_hyb(test_dataset.input.to(device))\n",
        "  target = test_dataset.target.to(device)\n",
        "  ac = multiclass_accuracy(preds, target, num_classes=2).item()\n",
        "  pr = multiclass_precision(preds, target, num_classes=2).item()\n",
        "  f1 = multiclass_f1_score(preds, target, num_classes=2).item()\n",
        "  re = multiclass_recall(preds, target, num_classes=2).item()\n",
        "  print(f\"Accuracy: {ac:.3f}, F1: {f1:.3f}, Precision: {pr:.3f}, Recall: {re:.3f}\")"
      ],
      "metadata": {
        "colab": {
          "base_uri": "https://localhost:8080/"
        },
        "id": "7YZqi5AJ5JLr",
        "outputId": "29bc6afe-8380-4a92-b511-540412667f2c"
      },
      "execution_count": 31,
      "outputs": [
        {
          "output_type": "stream",
          "name": "stdout",
          "text": [
            "Accuracy: 0.548, F1: 0.548, Precision: 0.549, Recall: 0.548\n"
          ]
        }
      ]
    },
    {
      "cell_type": "markdown",
      "source": [
        "Test RNN model"
      ],
      "metadata": {
        "id": "l1TtQPmXbnEA"
      }
    },
    {
      "cell_type": "code",
      "source": [
        "with torch.no_grad():\n",
        "  preds = model_rnn(test_dataset.input.to(device))\n",
        "  target = test_dataset.target.to(device)\n",
        "  ac = multiclass_accuracy(preds, target, num_classes=2).item()\n",
        "  pr = multiclass_precision(preds, target, num_classes=2).item()\n",
        "  f1 = multiclass_f1_score(preds, target, num_classes=2).item()\n",
        "  re = multiclass_recall(preds, target, num_classes=2).item()\n",
        "  print(f\"Accuracy: {ac:.3f}, F1: {f1:.3f}, Precision: {pr:.3f}, Recall: {re:.3f}\")"
      ],
      "metadata": {
        "colab": {
          "base_uri": "https://localhost:8080/"
        },
        "id": "e8KSN70dbMZ5",
        "outputId": "644fc0c0-dc3f-4e58-f4d3-b0eb256224b1"
      },
      "execution_count": 34,
      "outputs": [
        {
          "output_type": "stream",
          "name": "stdout",
          "text": [
            "Accuracy: 0.495, F1: 0.494, Precision: 0.495, Recall: 0.495\n"
          ]
        }
      ]
    }
  ]
}